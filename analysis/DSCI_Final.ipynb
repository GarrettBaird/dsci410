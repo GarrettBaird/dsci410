{
 "cells": [
  {
   "cell_type": "code",
   "execution_count": 233,
   "id": "6fa0d389",
   "metadata": {},
   "outputs": [],
   "source": [
    "import numpy as np\n",
    "import pandas as pd\n",
    "import plotly.express as px\n",
    "import plotly.graph_objects as go\n",
    "from scipy import stats"
   ]
  },
  {
   "cell_type": "markdown",
   "id": "d50b36ef",
   "metadata": {},
   "source": [
    "## Data Cleaning"
   ]
  },
  {
   "cell_type": "code",
   "execution_count": 234,
   "id": "42c1a550",
   "metadata": {},
   "outputs": [
    {
     "data": {
      "text/html": [
       "<div>\n",
       "<style scoped>\n",
       "    .dataframe tbody tr th:only-of-type {\n",
       "        vertical-align: middle;\n",
       "    }\n",
       "\n",
       "    .dataframe tbody tr th {\n",
       "        vertical-align: top;\n",
       "    }\n",
       "\n",
       "    .dataframe thead th {\n",
       "        text-align: right;\n",
       "    }\n",
       "</style>\n",
       "<table border=\"1\" class=\"dataframe\">\n",
       "  <thead>\n",
       "    <tr style=\"text-align: right;\">\n",
       "      <th></th>\n",
       "      <th>Unnamed: 0</th>\n",
       "      <th>IncidentNumber</th>\n",
       "      <th>Call_Created_Time</th>\n",
       "      <th>Call_First_Dispatched_Time</th>\n",
       "      <th>Call_First_On_Scene</th>\n",
       "      <th>Call_Cleared</th>\n",
       "      <th>Call_Zipcode</th>\n",
       "      <th>Beat</th>\n",
       "      <th>Call_Source</th>\n",
       "      <th>Call_Priority</th>\n",
       "      <th>InitialIncidentTypeDescription</th>\n",
       "      <th>IsPrimary</th>\n",
       "      <th>PrimaryUnitCallSign</th>\n",
       "      <th>RespondingUnitCallSign</th>\n",
       "      <th>Unit_Dispatched_Time</th>\n",
       "      <th>Unit_OnScene_Time</th>\n",
       "      <th>Unit_Cleared_Time</th>\n",
       "      <th>Disposition</th>\n",
       "    </tr>\n",
       "  </thead>\n",
       "  <tbody>\n",
       "    <tr>\n",
       "      <th>0</th>\n",
       "      <td>1</td>\n",
       "      <td>OR-2016-01-01-16000001</td>\n",
       "      <td>1/1/16 0:00</td>\n",
       "      <td>1/1/16 0:04</td>\n",
       "      <td>1/1/16 0:09</td>\n",
       "      <td>1/1/16 0:54</td>\n",
       "      <td>97402.0</td>\n",
       "      <td>EP05</td>\n",
       "      <td>E911</td>\n",
       "      <td>3</td>\n",
       "      <td>ASSAULT</td>\n",
       "      <td>1</td>\n",
       "      <td>5E57</td>\n",
       "      <td>5E57</td>\n",
       "      <td>1/1/16 0:04</td>\n",
       "      <td>1/1/16 0:09</td>\n",
       "      <td>1/1/16 0:54</td>\n",
       "      <td>ADVISED</td>\n",
       "    </tr>\n",
       "    <tr>\n",
       "      <th>1</th>\n",
       "      <td>2</td>\n",
       "      <td>OR-2016-01-01-16000001</td>\n",
       "      <td>1/1/16 0:00</td>\n",
       "      <td>1/1/16 0:04</td>\n",
       "      <td>1/1/16 0:09</td>\n",
       "      <td>1/1/16 0:54</td>\n",
       "      <td>97402.0</td>\n",
       "      <td>EP05</td>\n",
       "      <td>E911</td>\n",
       "      <td>3</td>\n",
       "      <td>ASSAULT</td>\n",
       "      <td>0</td>\n",
       "      <td>5E57</td>\n",
       "      <td>4X40</td>\n",
       "      <td>1/1/16 0:09</td>\n",
       "      <td>1/1/16 0:09</td>\n",
       "      <td>1/1/16 0:46</td>\n",
       "      <td>ADVISED</td>\n",
       "    </tr>\n",
       "    <tr>\n",
       "      <th>2</th>\n",
       "      <td>3</td>\n",
       "      <td>OR-2016-01-01-16000001</td>\n",
       "      <td>1/1/16 0:00</td>\n",
       "      <td>1/1/16 0:04</td>\n",
       "      <td>1/1/16 0:09</td>\n",
       "      <td>1/1/16 0:54</td>\n",
       "      <td>97402.0</td>\n",
       "      <td>EP05</td>\n",
       "      <td>E911</td>\n",
       "      <td>3</td>\n",
       "      <td>ASSAULT</td>\n",
       "      <td>0</td>\n",
       "      <td>5E57</td>\n",
       "      <td>4E53</td>\n",
       "      <td>1/1/16 0:04</td>\n",
       "      <td>1/1/16 0:12</td>\n",
       "      <td>1/1/16 0:51</td>\n",
       "      <td>ADVISED</td>\n",
       "    </tr>\n",
       "  </tbody>\n",
       "</table>\n",
       "</div>"
      ],
      "text/plain": [
       "   Unnamed: 0          IncidentNumber Call_Created_Time  \\\n",
       "0           1  OR-2016-01-01-16000001       1/1/16 0:00   \n",
       "1           2  OR-2016-01-01-16000001       1/1/16 0:00   \n",
       "2           3  OR-2016-01-01-16000001       1/1/16 0:00   \n",
       "\n",
       "  Call_First_Dispatched_Time Call_First_On_Scene Call_Cleared  Call_Zipcode  \\\n",
       "0                1/1/16 0:04         1/1/16 0:09  1/1/16 0:54       97402.0   \n",
       "1                1/1/16 0:04         1/1/16 0:09  1/1/16 0:54       97402.0   \n",
       "2                1/1/16 0:04         1/1/16 0:09  1/1/16 0:54       97402.0   \n",
       "\n",
       "   Beat Call_Source Call_Priority InitialIncidentTypeDescription  IsPrimary  \\\n",
       "0  EP05        E911             3                        ASSAULT          1   \n",
       "1  EP05        E911             3                        ASSAULT          0   \n",
       "2  EP05        E911             3                        ASSAULT          0   \n",
       "\n",
       "  PrimaryUnitCallSign RespondingUnitCallSign Unit_Dispatched_Time  \\\n",
       "0                5E57                   5E57          1/1/16 0:04   \n",
       "1                5E57                   4X40          1/1/16 0:09   \n",
       "2                5E57                   4E53          1/1/16 0:04   \n",
       "\n",
       "  Unit_OnScene_Time Unit_Cleared_Time Disposition  \n",
       "0       1/1/16 0:09       1/1/16 0:54     ADVISED  \n",
       "1       1/1/16 0:09       1/1/16 0:46     ADVISED  \n",
       "2       1/1/16 0:12       1/1/16 0:51     ADVISED  "
      ]
     },
     "execution_count": 234,
     "metadata": {},
     "output_type": "execute_result"
    }
   ],
   "source": [
    "raw_data = pd.read_csv(\"../data/CAD.csv\")\n",
    "raw_data.head(3)"
   ]
  },
  {
   "cell_type": "markdown",
   "id": "d1650cae",
   "metadata": {},
   "source": [
    "## Column Selection & Responder Scubbing"
   ]
  },
  {
   "cell_type": "code",
   "execution_count": 235,
   "id": "ff4531dc",
   "metadata": {},
   "outputs": [
    {
     "name": "stdout",
     "output_type": "stream",
     "text": [
      "Initial rows: 1048575\n",
      "After dropping NA: 708301\n"
     ]
    }
   ],
   "source": [
    "# Grabbing needed columns\n",
    "data = raw_data[['Call_Priority', 'InitialIncidentTypeDescription',\n",
    "            'RespondingUnitCallSign', 'Unit_Dispatched_Time', 'Unit_OnScene_Time']].copy()\n",
    "\n",
    "# Dropping incomplete rows\n",
    "print(f\"Initial rows: {len(data)}\")\n",
    "data.dropna(inplace=True)\n",
    "print(f\"After dropping NA: {len(data)}\")\n",
    "\n",
    "data['RespondingUnitCallSign'] = data['RespondingUnitCallSign'].str.upper()\n",
    "\n",
    "replace_pattern = r'(.J..|CAHOOT|CAHOT|CAHO.*)'\n",
    "data['RespondingUnitCallSign'] = data['RespondingUnitCallSign'].str.replace(\n",
    "    replace_pattern, 'CAHOOTS', regex=True\n",
    ")\n",
    "\n",
    "\n",
    "data['RespondingUnitCallSign'] = data['RespondingUnitCallSign'].apply(\n",
    "    lambda x: 'CAHOOTS' if 'CAHOOT' in x or 'CAHOT' in x else x\n",
    ")\n",
    "def replace_other(x): \n",
    "    if x == 'CAHOOTS':\n",
    "        return 'CAHOOTS'\n",
    "    return 'EPD'\n",
    "\n",
    "data['RespondingUnitCallSign'] = data['RespondingUnitCallSign'].apply(replace_other)\n",
    "epd = data[data['RespondingUnitCallSign'] == 'EPD']\n",
    "cahoots = data[data['RespondingUnitCallSign'].str.contains('CAHOOTS', case=False, na=False)]\n",
    "epd_calls = epd['InitialIncidentTypeDescription'].unique()\n",
    "cah_calls = cahoots['InitialIncidentTypeDescription'].unique()\n",
    "same_call = np.intersect1d(cah_calls, epd_calls)\n",
    "data = data[data['InitialIncidentTypeDescription'].isin(same_call)] if len(same_call) > 0 else data"
   ]
  },
  {
   "cell_type": "code",
   "execution_count": 236,
   "id": "9ffd34ea-f386-4d4a-bfac-a8b839fbfd76",
   "metadata": {},
   "outputs": [
    {
     "name": "stderr",
     "output_type": "stream",
     "text": [
      "/var/folders/nd/s5gxl9pj60sgyn97zbdrmn6c0000gn/T/ipykernel_8457/1913417088.py:1: UserWarning:\n",
      "\n",
      "Could not infer format, so each element will be parsed individually, falling back to `dateutil`. To ensure parsing is consistent and as-expected, please specify a format.\n",
      "\n"
     ]
    }
   ],
   "source": [
    "data['Unit_Dispatched_Time'] = pd.to_datetime(data['Unit_Dispatched_Time'], errors='coerce')\n",
    "data['Unit_OnScene_Time'] = pd.to_datetime(data['Unit_OnScene_Time'], format=\"%m/%d/%y %H:%M\", errors='coerce')"
   ]
  },
  {
   "cell_type": "markdown",
   "id": "84305c03",
   "metadata": {},
   "source": [
    "## Varible Creation"
   ]
  },
  {
   "cell_type": "code",
   "execution_count": 251,
   "id": "e620d409-b02d-4ffa-b5c2-8a2a65dc63d8",
   "metadata": {},
   "outputs": [],
   "source": [
    "def get_time_seg(data):\n",
    "    \"\"\"\n",
    "    \"\"\"\n",
    "    hour = data.hour\n",
    "    if 5 <= hour < 12:\n",
    "        return \"Morning\"\n",
    "    elif 12 <= hour < 17:\n",
    "        return \"Afternoon\"\n",
    "    elif 17 <= hour < 20:\n",
    "        return \"Evening\"\n",
    "    else: \n",
    "        return \"Night\"\n",
    "data['Response_Time'] = (data['Unit_OnScene_Time'] - data['Unit_Dispatched_Time']).dt.total_seconds()/60\n",
    "data['Day_Of_Week'] = data['Unit_Dispatched_Time'].dt.day_of_week\n",
    "data['Time_Of_Day'] = data['Unit_Dispatched_Time'].apply(get_time_seg)\n",
    "name_map = {0:\"Sunday\", 1:\"Monday\", 2:\"Tuseday\", 3:\"Wednesday\", 4:\"Thursday\", 5:\"Friday\", 6:\"Saturday\"}\n",
    "data['Day_of_Week'] = data['Day_Of_Week'].map(name_map)"
   ]
  },
  {
   "cell_type": "code",
   "execution_count": 238,
   "id": "30e4f2af-1cbb-4e38-8fdc-d812a3e5b9e8",
   "metadata": {},
   "outputs": [],
   "source": [
    "def categorize_incident(desc):\n",
    "    desc = desc.upper()\n",
    "    violent_keywords = ['ASSAULT', 'ROBBERY', 'RAPE', 'STAB', 'GUNSHOT', 'KIDNAP', 'ARMED', 'MENACING', 'WEAPON', 'ATTEMPT TO LOCATE DRUNK DRIVER', 'SHOTS FIRED', 'PURSUIT']\n",
    "    traffic_keywords = ['TRAFFIC', 'DUII', 'RECKLESS DRIVING', 'HIT AND RUN', 'ACCIDENT', 'VEHICLE', 'MOTOR VEH', 'VEHICLE/PEDESTRIAN CRASH', 'TRAIN VS PED/BIKE CRASH', 'WRONG WAY DRIVER', 'RECKLESS ENDANGERING', 'RECKLESS BURNING', 'BLOCKED ALLEY', 'TRAFFIC HAZARD', 'PURSUIT']\n",
    "    mental_medical_keywords = ['MENTAL','SUBJECT SCREAMING', 'SUICIDE', 'OVERDOSE','SUBJECT DOWN', 'CARDIAC ARREST', 'INJURED', 'SUICIDAL', 'DETOXIFICATION', 'ILL SUBJECT', 'DISORIENTED', 'DISORDERLY MEDICAL TRANSPORT', 'DECEASED SUBJECT', 'DEATH MESSAGE', 'MENTAL TRANSPORT', 'POISONING', 'INJURED SUBJECT', 'STAB WOUND', 'GUNSHOT WOUND', 'IN POSSESSION OF NARCOTICS','CHECK WELFARE']\n",
    "    theft_keywords = ['THEFT', 'BURGLARY', 'CRIMINAL TRESPASS', 'SHOPLIFT', 'FRAUD', 'UNLAWFUL VEHICLE ENTRY', 'LOCATION STOLEN VEHICLE', 'RECOVERED STOLEN VEHICLE', 'LOCATION STOLEN PROPERTY', 'THEFT OF SERVICES', 'THEFT OF BICYCLE', 'THEFT OF IDENTITY', 'FOUND PROPERTY', 'FOUND CONTRABAND']\n",
    "    disorder_keywords = ['DISORDERLY', 'DISPUTE', 'NOISE', 'ILLEGAL CAMPING', 'ILLEGAL DUMPING', 'BLOCKED SIDEWALK', 'VIOLATION', 'CIVIL STANDBY', 'PUBLIC INDECENCY', 'VIOLATION OF RESTRAINING ORDER', 'VIOLATION OF CITY ORDINANCE', 'MINOR IN POSSESSION', 'ALARM PANIC', 'ALARM DURESS']\n",
    "    animal_keywords = ['ANIMAL', 'DOG', 'CAT', 'LIVESTOCK', 'DOG BITE', 'ANIMAL CRUELTY', 'ANIMAL ABUSE', 'ANIMAL ATTACK', 'FOUND ANIMAL', 'INJURED ANIMAL', 'ABANDONED ANIMAL', 'DOG VICIOUS']\n",
    "    assistance_keywords = ['ASSIST', 'REQUEST', 'INFORMATION', 'CITIZEN CONTACT', 'FOLLOW UP', 'PATROL CHECK', 'BEAT INFORMATION', 'REQUEST COVER', 'REQUEST DRE', 'REQUEST ASSISTANCE', 'ASSIST FIRE DEPARTMENT', 'ASSIST OUTSIDE AGENCY', 'ASSIST SHERIFFS OFFICE', 'ASSIST MOTORIST', 'ASSIST PUBLIC WORKS', 'OFFICER SAFETY INFO', 'POLICE OFFICER HOLD']\n",
    "    suspicious_keywords = ['SUSPICIOUS', 'LOCATION', 'IMPERSONATING', 'LOCATE', 'FOLLOW UP', 'ATTEMPT TO LOCATE', 'LOCATION WANTED SUBJECT', 'LOCATION RUNAWAY']\n",
    "    abuse_keywords = ['CHILD ABUSE', 'ELDERLY ABUSE', 'CUSTODIAL INTERFERENCE', 'HARASSMENT', 'STALKING COMPLAINT', 'SEX ABUSE', 'VIOLATION OF RESTRAINING ORDER']\n",
    "    misc_keywords = ['UNKNOWN PROBLEM', 'INCOMPLETE CALL', 'CITIZEN CONTACT', 'FOOT PATROL', 'DEAD ANIMAL', 'TRASH BIN FIRE', 'OPEN DOOR', 'OPEN CONTAINER', 'FLAGGED DOWN', 'EMERGENCY MESSAGE', 'BLOCKED ALLEY', 'LOST SUBJECT', 'WATER RESCUE', 'NUDE SUBJECT', 'INFORMATION- BOTH PD AND FD', 'POLICE OFFICER HOLD', 'TRAIN VS PED/BIKE CRASH', 'WARRANT SERVICE', 'SHOTS FIRED']\n",
    "    \n",
    "    if any(word in desc for word in violent_keywords): return 'Violent Crime'\n",
    "    if any(word in desc for word in traffic_keywords): return 'Traffic & Vehicle'\n",
    "    if any(word in desc for word in mental_medical_keywords): return 'Mental Health & Medical'\n",
    "    if any(word in desc for word in theft_keywords): return 'Theft & Property'\n",
    "    if any(word in desc for word in disorder_keywords): return 'Disorder & Public Safety'\n",
    "    if any(word in desc for word in animal_keywords): return 'Animal-related'\n",
    "    if any(word in desc for word in assistance_keywords): return 'Public Assistance'\n",
    "    if any(word in desc for word in suspicious_keywords): return 'Suspicious / Investigative'\n",
    "    if any(word in desc for word in abuse_keywords): return 'Abuse & Welfare'\n",
    "    if any(word in desc for word in misc_keywords): return 'Miscellaneous'\n",
    "    return 'Other / Unclassified'\n",
    "\n",
    "data['IncidentCategory'] = data['InitialIncidentTypeDescription'].apply(categorize_incident)"
   ]
  },
  {
   "cell_type": "code",
   "execution_count": 239,
   "id": "5fcfc0a2-f55e-42d5-a589-a1e5dc10425e",
   "metadata": {},
   "outputs": [
    {
     "data": {
      "text/plain": [
       "11"
      ]
     },
     "execution_count": 239,
     "metadata": {},
     "output_type": "execute_result"
    }
   ],
   "source": [
    "len(data['IncidentCategory'].unique())"
   ]
  },
  {
   "cell_type": "markdown",
   "id": "0b1332c2",
   "metadata": {},
   "source": [
    "# Analysis"
   ]
  },
  {
   "cell_type": "code",
   "execution_count": 240,
   "id": "3bc85071",
   "metadata": {},
   "outputs": [
    {
     "name": "stderr",
     "output_type": "stream",
     "text": [
      "/var/folders/nd/s5gxl9pj60sgyn97zbdrmn6c0000gn/T/ipykernel_8457/4255382704.py:24: SettingWithCopyWarning:\n",
      "\n",
      "\n",
      "A value is trying to be set on a copy of a slice from a DataFrame.\n",
      "Try using .loc[row_indexer,col_indexer] = value instead\n",
      "\n",
      "See the caveats in the documentation: https://pandas.pydata.org/pandas-docs/stable/user_guide/indexing.html#returning-a-view-versus-a-copy\n",
      "\n"
     ]
    }
   ],
   "source": [
    "# Call Type\n",
    "call = data[['IncidentCategory', 'Response_Time', 'RespondingUnitCallSign']]\n",
    "call_grouped = call.groupby(['IncidentCategory', 'RespondingUnitCallSign']).agg(\n",
    "    Mean_Response=('Response_Time', 'mean'),\n",
    "    Std_Response=('Response_Time', 'std'),  \n",
    "    Count=('Response_Time', 'count')\n",
    ").reset_index()\n",
    "\n",
    "call_grouped['Std_Error'] = call_grouped['Std_Response'] / np.sqrt(call_grouped['Count'])\n",
    "\n",
    "# Time of Day \n",
    "tod = data[['Time_Of_Day', 'Response_Time', 'RespondingUnitCallSign']]\n",
    "tod_grouped = tod.groupby(['Time_Of_Day', 'RespondingUnitCallSign']).agg(\n",
    "    Mean_Response=('Response_Time', 'mean'),\n",
    "    Std_Response=('Response_Time', 'std'),  \n",
    "    Count=('Response_Time', 'count')\n",
    ").reset_index()\n",
    "\n",
    "tod_grouped['Std_Error'] = tod_grouped['Std_Response'] / np.sqrt(tod_grouped['Count'])\n",
    "\n",
    "# Day of Week\n",
    "dow = data[['Day_Of_Week', 'Response_Time', 'RespondingUnitCallSign']]\n",
    "name_map = {0:\"Sunday\", 1:\"Monday\", 2:\"Tuseday\", 3:\"Wednesday\", 4:\"Thursday\", 5:\"Friday\", 6:\"Saturday\"}\n",
    "dow['Day_Of_Week'] = dow['Day_Of_Week'].map(name_map)\n",
    "dow_grouped = dow.groupby(['Day_Of_Week', 'RespondingUnitCallSign']).agg(\n",
    "    Mean_Response=('Response_Time', 'mean'),\n",
    "    Std_Response=('Response_Time', 'std'),  \n",
    "    Count=('Response_Time', 'count')\n",
    ").reset_index()\n",
    "\n",
    "dow_grouped['Std_Error'] = dow_grouped['Std_Response'] / np.sqrt(dow_grouped['Count'])\n",
    "\n",
    "\n",
    "# Call Priority\n",
    "priority = data[['Call_Priority', 'Response_Time', 'RespondingUnitCallSign']]\n",
    "priority_grouped = priority.groupby(['Call_Priority', 'RespondingUnitCallSign']).agg(\n",
    "    Mean_Response=('Response_Time', 'mean'),\n",
    "    Std_Response=('Response_Time', 'std'),  \n",
    "    Count=('Response_Time', 'count')\n",
    ").reset_index()\n",
    "\n",
    "priority_grouped['Std_Error'] = priority_grouped['Std_Response'] / np.sqrt(priority_grouped['Count'])\n"
   ]
  },
  {
   "cell_type": "code",
   "execution_count": 269,
   "id": "30066448",
   "metadata": {},
   "outputs": [
    {
     "data": {
      "text/html": [
       "<div>\n",
       "<style scoped>\n",
       "    .dataframe tbody tr th:only-of-type {\n",
       "        vertical-align: middle;\n",
       "    }\n",
       "\n",
       "    .dataframe tbody tr th {\n",
       "        vertical-align: top;\n",
       "    }\n",
       "\n",
       "    .dataframe thead th {\n",
       "        text-align: right;\n",
       "    }\n",
       "</style>\n",
       "<table border=\"1\" class=\"dataframe\">\n",
       "  <thead>\n",
       "    <tr style=\"text-align: right;\">\n",
       "      <th></th>\n",
       "      <th>Call_Priority</th>\n",
       "      <th>RespondingUnitCallSign</th>\n",
       "      <th>Mean_Response</th>\n",
       "      <th>Std_Response</th>\n",
       "      <th>Count</th>\n",
       "      <th>Std_Error</th>\n",
       "    </tr>\n",
       "  </thead>\n",
       "  <tbody>\n",
       "    <tr>\n",
       "      <th>0</th>\n",
       "      <td>1</td>\n",
       "      <td>CAHOOTS</td>\n",
       "      <td>12.176271</td>\n",
       "      <td>12.701743</td>\n",
       "      <td>3540</td>\n",
       "      <td>0.213482</td>\n",
       "    </tr>\n",
       "    <tr>\n",
       "      <th>1</th>\n",
       "      <td>1</td>\n",
       "      <td>EPD</td>\n",
       "      <td>8.911860</td>\n",
       "      <td>112.659228</td>\n",
       "      <td>42455</td>\n",
       "      <td>0.546767</td>\n",
       "    </tr>\n",
       "    <tr>\n",
       "      <th>2</th>\n",
       "      <td>2</td>\n",
       "      <td>CAHOOTS</td>\n",
       "      <td>9.758621</td>\n",
       "      <td>5.927368</td>\n",
       "      <td>58</td>\n",
       "      <td>0.778302</td>\n",
       "    </tr>\n",
       "    <tr>\n",
       "      <th>3</th>\n",
       "      <td>2</td>\n",
       "      <td>EPD</td>\n",
       "      <td>7.364493</td>\n",
       "      <td>11.309273</td>\n",
       "      <td>5627</td>\n",
       "      <td>0.150764</td>\n",
       "    </tr>\n",
       "    <tr>\n",
       "      <th>4</th>\n",
       "      <td>3</td>\n",
       "      <td>CAHOOTS</td>\n",
       "      <td>11.295024</td>\n",
       "      <td>12.416025</td>\n",
       "      <td>10772</td>\n",
       "      <td>0.119628</td>\n",
       "    </tr>\n",
       "    <tr>\n",
       "      <th>5</th>\n",
       "      <td>3</td>\n",
       "      <td>EPD</td>\n",
       "      <td>8.695010</td>\n",
       "      <td>17.983701</td>\n",
       "      <td>267110</td>\n",
       "      <td>0.034796</td>\n",
       "    </tr>\n",
       "    <tr>\n",
       "      <th>6</th>\n",
       "      <td>4</td>\n",
       "      <td>CAHOOTS</td>\n",
       "      <td>13.406504</td>\n",
       "      <td>13.198539</td>\n",
       "      <td>246</td>\n",
       "      <td>0.841508</td>\n",
       "    </tr>\n",
       "    <tr>\n",
       "      <th>7</th>\n",
       "      <td>4</td>\n",
       "      <td>EPD</td>\n",
       "      <td>15.704565</td>\n",
       "      <td>31.624719</td>\n",
       "      <td>33212</td>\n",
       "      <td>0.173532</td>\n",
       "    </tr>\n",
       "    <tr>\n",
       "      <th>8</th>\n",
       "      <td>5</td>\n",
       "      <td>CAHOOTS</td>\n",
       "      <td>11.477089</td>\n",
       "      <td>11.140325</td>\n",
       "      <td>9646</td>\n",
       "      <td>0.113429</td>\n",
       "    </tr>\n",
       "    <tr>\n",
       "      <th>9</th>\n",
       "      <td>5</td>\n",
       "      <td>EPD</td>\n",
       "      <td>10.532405</td>\n",
       "      <td>39.041461</td>\n",
       "      <td>33405</td>\n",
       "      <td>0.213609</td>\n",
       "    </tr>\n",
       "    <tr>\n",
       "      <th>10</th>\n",
       "      <td>6</td>\n",
       "      <td>CAHOOTS</td>\n",
       "      <td>7.206951</td>\n",
       "      <td>25.615271</td>\n",
       "      <td>1266</td>\n",
       "      <td>0.719916</td>\n",
       "    </tr>\n",
       "    <tr>\n",
       "      <th>11</th>\n",
       "      <td>6</td>\n",
       "      <td>EPD</td>\n",
       "      <td>2.751601</td>\n",
       "      <td>16.750199</td>\n",
       "      <td>196490</td>\n",
       "      <td>0.037788</td>\n",
       "    </tr>\n",
       "    <tr>\n",
       "      <th>12</th>\n",
       "      <td>7</td>\n",
       "      <td>CAHOOTS</td>\n",
       "      <td>13.149615</td>\n",
       "      <td>27.469690</td>\n",
       "      <td>37162</td>\n",
       "      <td>0.142497</td>\n",
       "    </tr>\n",
       "    <tr>\n",
       "      <th>13</th>\n",
       "      <td>7</td>\n",
       "      <td>EPD</td>\n",
       "      <td>7.249074</td>\n",
       "      <td>13.815057</td>\n",
       "      <td>2971</td>\n",
       "      <td>0.253455</td>\n",
       "    </tr>\n",
       "    <tr>\n",
       "      <th>14</th>\n",
       "      <td>8</td>\n",
       "      <td>CAHOOTS</td>\n",
       "      <td>12.654902</td>\n",
       "      <td>22.076962</td>\n",
       "      <td>255</td>\n",
       "      <td>1.382513</td>\n",
       "    </tr>\n",
       "    <tr>\n",
       "      <th>15</th>\n",
       "      <td>8</td>\n",
       "      <td>EPD</td>\n",
       "      <td>10.043850</td>\n",
       "      <td>21.319462</td>\n",
       "      <td>1756</td>\n",
       "      <td>0.508761</td>\n",
       "    </tr>\n",
       "    <tr>\n",
       "      <th>16</th>\n",
       "      <td>9</td>\n",
       "      <td>CAHOOTS</td>\n",
       "      <td>7.368421</td>\n",
       "      <td>4.728290</td>\n",
       "      <td>19</td>\n",
       "      <td>1.084744</td>\n",
       "    </tr>\n",
       "    <tr>\n",
       "      <th>17</th>\n",
       "      <td>9</td>\n",
       "      <td>EPD</td>\n",
       "      <td>8.335531</td>\n",
       "      <td>17.102354</td>\n",
       "      <td>2730</td>\n",
       "      <td>0.327322</td>\n",
       "    </tr>\n",
       "    <tr>\n",
       "      <th>18</th>\n",
       "      <td>P</td>\n",
       "      <td>CAHOOTS</td>\n",
       "      <td>5.436284</td>\n",
       "      <td>9.278226</td>\n",
       "      <td>2056</td>\n",
       "      <td>0.204623</td>\n",
       "    </tr>\n",
       "    <tr>\n",
       "      <th>19</th>\n",
       "      <td>P</td>\n",
       "      <td>EPD</td>\n",
       "      <td>6.473822</td>\n",
       "      <td>19.761061</td>\n",
       "      <td>44255</td>\n",
       "      <td>0.093935</td>\n",
       "    </tr>\n",
       "  </tbody>\n",
       "</table>\n",
       "</div>"
      ],
      "text/plain": [
       "   Call_Priority RespondingUnitCallSign  Mean_Response  Std_Response   Count  \\\n",
       "0              1                CAHOOTS      12.176271     12.701743    3540   \n",
       "1              1                    EPD       8.911860    112.659228   42455   \n",
       "2              2                CAHOOTS       9.758621      5.927368      58   \n",
       "3              2                    EPD       7.364493     11.309273    5627   \n",
       "4              3                CAHOOTS      11.295024     12.416025   10772   \n",
       "5              3                    EPD       8.695010     17.983701  267110   \n",
       "6              4                CAHOOTS      13.406504     13.198539     246   \n",
       "7              4                    EPD      15.704565     31.624719   33212   \n",
       "8              5                CAHOOTS      11.477089     11.140325    9646   \n",
       "9              5                    EPD      10.532405     39.041461   33405   \n",
       "10             6                CAHOOTS       7.206951     25.615271    1266   \n",
       "11             6                    EPD       2.751601     16.750199  196490   \n",
       "12             7                CAHOOTS      13.149615     27.469690   37162   \n",
       "13             7                    EPD       7.249074     13.815057    2971   \n",
       "14             8                CAHOOTS      12.654902     22.076962     255   \n",
       "15             8                    EPD      10.043850     21.319462    1756   \n",
       "16             9                CAHOOTS       7.368421      4.728290      19   \n",
       "17             9                    EPD       8.335531     17.102354    2730   \n",
       "18             P                CAHOOTS       5.436284      9.278226    2056   \n",
       "19             P                    EPD       6.473822     19.761061   44255   \n",
       "\n",
       "    Std_Error  \n",
       "0    0.213482  \n",
       "1    0.546767  \n",
       "2    0.778302  \n",
       "3    0.150764  \n",
       "4    0.119628  \n",
       "5    0.034796  \n",
       "6    0.841508  \n",
       "7    0.173532  \n",
       "8    0.113429  \n",
       "9    0.213609  \n",
       "10   0.719916  \n",
       "11   0.037788  \n",
       "12   0.142497  \n",
       "13   0.253455  \n",
       "14   1.382513  \n",
       "15   0.508761  \n",
       "16   1.084744  \n",
       "17   0.327322  \n",
       "18   0.204623  \n",
       "19   0.093935  "
      ]
     },
     "execution_count": 269,
     "metadata": {},
     "output_type": "execute_result"
    }
   ],
   "source": [
    "priority_grouped"
   ]
  },
  {
   "cell_type": "code",
   "execution_count": 285,
   "id": "20461283",
   "metadata": {},
   "outputs": [
    {
     "data": {
      "text/html": [
       "<div>\n",
       "<style scoped>\n",
       "    .dataframe tbody tr th:only-of-type {\n",
       "        vertical-align: middle;\n",
       "    }\n",
       "\n",
       "    .dataframe tbody tr th {\n",
       "        vertical-align: top;\n",
       "    }\n",
       "\n",
       "    .dataframe thead th {\n",
       "        text-align: right;\n",
       "    }\n",
       "</style>\n",
       "<table border=\"1\" class=\"dataframe\">\n",
       "  <thead>\n",
       "    <tr style=\"text-align: right;\">\n",
       "      <th></th>\n",
       "      <th>Factor</th>\n",
       "      <th>var</th>\n",
       "      <th>Diff</th>\n",
       "    </tr>\n",
       "  </thead>\n",
       "  <tbody>\n",
       "    <tr>\n",
       "      <th>0</th>\n",
       "      <td>Priority</td>\n",
       "      <td>1</td>\n",
       "      <td>3.264412</td>\n",
       "    </tr>\n",
       "    <tr>\n",
       "      <th>1</th>\n",
       "      <td>Priority</td>\n",
       "      <td>2</td>\n",
       "      <td>2.394128</td>\n",
       "    </tr>\n",
       "    <tr>\n",
       "      <th>2</th>\n",
       "      <td>Priority</td>\n",
       "      <td>3</td>\n",
       "      <td>2.600015</td>\n",
       "    </tr>\n",
       "    <tr>\n",
       "      <th>3</th>\n",
       "      <td>Priority</td>\n",
       "      <td>4</td>\n",
       "      <td>-2.298061</td>\n",
       "    </tr>\n",
       "    <tr>\n",
       "      <th>4</th>\n",
       "      <td>Priority</td>\n",
       "      <td>5</td>\n",
       "      <td>0.944684</td>\n",
       "    </tr>\n",
       "    <tr>\n",
       "      <th>5</th>\n",
       "      <td>Priority</td>\n",
       "      <td>6</td>\n",
       "      <td>4.455350</td>\n",
       "    </tr>\n",
       "    <tr>\n",
       "      <th>6</th>\n",
       "      <td>Priority</td>\n",
       "      <td>7</td>\n",
       "      <td>5.900541</td>\n",
       "    </tr>\n",
       "    <tr>\n",
       "      <th>7</th>\n",
       "      <td>Priority</td>\n",
       "      <td>8</td>\n",
       "      <td>2.611052</td>\n",
       "    </tr>\n",
       "    <tr>\n",
       "      <th>8</th>\n",
       "      <td>Priority</td>\n",
       "      <td>9</td>\n",
       "      <td>-0.967110</td>\n",
       "    </tr>\n",
       "    <tr>\n",
       "      <th>9</th>\n",
       "      <td>Priority</td>\n",
       "      <td>P</td>\n",
       "      <td>-1.037538</td>\n",
       "    </tr>\n",
       "    <tr>\n",
       "      <th>10</th>\n",
       "      <td>Time of Day</td>\n",
       "      <td>Afternoon</td>\n",
       "      <td>6.483558</td>\n",
       "    </tr>\n",
       "    <tr>\n",
       "      <th>11</th>\n",
       "      <td>Time of Day</td>\n",
       "      <td>Evening</td>\n",
       "      <td>4.327242</td>\n",
       "    </tr>\n",
       "    <tr>\n",
       "      <th>12</th>\n",
       "      <td>Time of Day</td>\n",
       "      <td>Morning</td>\n",
       "      <td>4.724883</td>\n",
       "    </tr>\n",
       "    <tr>\n",
       "      <th>13</th>\n",
       "      <td>Time of Day</td>\n",
       "      <td>Night</td>\n",
       "      <td>4.763329</td>\n",
       "    </tr>\n",
       "    <tr>\n",
       "      <th>14</th>\n",
       "      <td>Day of Week</td>\n",
       "      <td>Friday</td>\n",
       "      <td>4.856064</td>\n",
       "    </tr>\n",
       "    <tr>\n",
       "      <th>15</th>\n",
       "      <td>Day of Week</td>\n",
       "      <td>Monday</td>\n",
       "      <td>5.392536</td>\n",
       "    </tr>\n",
       "    <tr>\n",
       "      <th>16</th>\n",
       "      <td>Day of Week</td>\n",
       "      <td>Saturday</td>\n",
       "      <td>4.038020</td>\n",
       "    </tr>\n",
       "    <tr>\n",
       "      <th>17</th>\n",
       "      <td>Day of Week</td>\n",
       "      <td>Sunday</td>\n",
       "      <td>5.136244</td>\n",
       "    </tr>\n",
       "    <tr>\n",
       "      <th>18</th>\n",
       "      <td>Day of Week</td>\n",
       "      <td>Thursday</td>\n",
       "      <td>5.316423</td>\n",
       "    </tr>\n",
       "    <tr>\n",
       "      <th>19</th>\n",
       "      <td>Day of Week</td>\n",
       "      <td>Tuseday</td>\n",
       "      <td>5.156384</td>\n",
       "    </tr>\n",
       "    <tr>\n",
       "      <th>20</th>\n",
       "      <td>Day of Week</td>\n",
       "      <td>Wednesday</td>\n",
       "      <td>5.307209</td>\n",
       "    </tr>\n",
       "    <tr>\n",
       "      <th>21</th>\n",
       "      <td>Call Type</td>\n",
       "      <td>Abuse &amp; Welfare</td>\n",
       "      <td>-0.794642</td>\n",
       "    </tr>\n",
       "    <tr>\n",
       "      <th>22</th>\n",
       "      <td>Call Type</td>\n",
       "      <td>Animal-related</td>\n",
       "      <td>-1.228045</td>\n",
       "    </tr>\n",
       "    <tr>\n",
       "      <th>23</th>\n",
       "      <td>Call Type</td>\n",
       "      <td>Disorder &amp; Public Safety</td>\n",
       "      <td>3.984769</td>\n",
       "    </tr>\n",
       "    <tr>\n",
       "      <th>24</th>\n",
       "      <td>Call Type</td>\n",
       "      <td>Mental Health &amp; Medical</td>\n",
       "      <td>4.025081</td>\n",
       "    </tr>\n",
       "    <tr>\n",
       "      <th>25</th>\n",
       "      <td>Call Type</td>\n",
       "      <td>Miscellaneous</td>\n",
       "      <td>2.844589</td>\n",
       "    </tr>\n",
       "    <tr>\n",
       "      <th>26</th>\n",
       "      <td>Call Type</td>\n",
       "      <td>Other / Unclassified</td>\n",
       "      <td>6.385393</td>\n",
       "    </tr>\n",
       "    <tr>\n",
       "      <th>27</th>\n",
       "      <td>Call Type</td>\n",
       "      <td>Public Assistance</td>\n",
       "      <td>8.159755</td>\n",
       "    </tr>\n",
       "    <tr>\n",
       "      <th>28</th>\n",
       "      <td>Call Type</td>\n",
       "      <td>Suspicious / Investigative</td>\n",
       "      <td>3.596679</td>\n",
       "    </tr>\n",
       "    <tr>\n",
       "      <th>29</th>\n",
       "      <td>Call Type</td>\n",
       "      <td>Theft &amp; Property</td>\n",
       "      <td>1.064523</td>\n",
       "    </tr>\n",
       "    <tr>\n",
       "      <th>30</th>\n",
       "      <td>Call Type</td>\n",
       "      <td>Traffic &amp; Vehicle</td>\n",
       "      <td>3.762016</td>\n",
       "    </tr>\n",
       "    <tr>\n",
       "      <th>31</th>\n",
       "      <td>Call Type</td>\n",
       "      <td>Violent Crime</td>\n",
       "      <td>2.199545</td>\n",
       "    </tr>\n",
       "  </tbody>\n",
       "</table>\n",
       "</div>"
      ],
      "text/plain": [
       "         Factor                         var      Diff\n",
       "0      Priority                           1  3.264412\n",
       "1      Priority                           2  2.394128\n",
       "2      Priority                           3  2.600015\n",
       "3      Priority                           4 -2.298061\n",
       "4      Priority                           5  0.944684\n",
       "5      Priority                           6  4.455350\n",
       "6      Priority                           7  5.900541\n",
       "7      Priority                           8  2.611052\n",
       "8      Priority                           9 -0.967110\n",
       "9      Priority                           P -1.037538\n",
       "10  Time of Day                   Afternoon  6.483558\n",
       "11  Time of Day                     Evening  4.327242\n",
       "12  Time of Day                     Morning  4.724883\n",
       "13  Time of Day                       Night  4.763329\n",
       "14  Day of Week                      Friday  4.856064\n",
       "15  Day of Week                      Monday  5.392536\n",
       "16  Day of Week                    Saturday  4.038020\n",
       "17  Day of Week                      Sunday  5.136244\n",
       "18  Day of Week                    Thursday  5.316423\n",
       "19  Day of Week                     Tuseday  5.156384\n",
       "20  Day of Week                   Wednesday  5.307209\n",
       "21    Call Type             Abuse & Welfare -0.794642\n",
       "22    Call Type              Animal-related -1.228045\n",
       "23    Call Type    Disorder & Public Safety  3.984769\n",
       "24    Call Type     Mental Health & Medical  4.025081\n",
       "25    Call Type               Miscellaneous  2.844589\n",
       "26    Call Type        Other / Unclassified  6.385393\n",
       "27    Call Type           Public Assistance  8.159755\n",
       "28    Call Type  Suspicious / Investigative  3.596679\n",
       "29    Call Type            Theft & Property  1.064523\n",
       "30    Call Type           Traffic & Vehicle  3.762016\n",
       "31    Call Type               Violent Crime  2.199545"
      ]
     },
     "execution_count": 285,
     "metadata": {},
     "output_type": "execute_result"
    }
   ],
   "source": [
    "tables = (priority_grouped, tod_grouped, dow_grouped, call_grouped)\n",
    "\n",
    "id = ['Priority', 'Time of Day', 'Day of Week', 'Call Type']\n",
    "diff_table = {'Factor': [], 'var': [], 'Diff': []}\n",
    "\n",
    "for df, key in zip(tables, id):\n",
    "    for subset in df.iloc[:,0].unique():\n",
    "        sub = df[df.iloc[:,0] == subset]\n",
    "        diff = sub['Mean_Response'].iloc[0] - sub['Mean_Response'].iloc[1] \n",
    "        var = subset\n",
    "        table = key\n",
    "\n",
    "        diff_table['Factor'].append(table)\n",
    "        diff_table['var'].append(var)\n",
    "        diff_table['Diff'].append(diff)\n",
    "diff_table = pd.DataFrame(diff_table)\n",
    "\n",
    "diff_table"
   ]
  },
  {
   "cell_type": "code",
   "execution_count": 241,
   "id": "643d45d6",
   "metadata": {},
   "outputs": [
    {
     "data": {
      "text/html": [
       "<div>\n",
       "<style scoped>\n",
       "    .dataframe tbody tr th:only-of-type {\n",
       "        vertical-align: middle;\n",
       "    }\n",
       "\n",
       "    .dataframe tbody tr th {\n",
       "        vertical-align: top;\n",
       "    }\n",
       "\n",
       "    .dataframe thead th {\n",
       "        text-align: right;\n",
       "    }\n",
       "</style>\n",
       "<table border=\"1\" class=\"dataframe\">\n",
       "  <thead>\n",
       "    <tr style=\"text-align: right;\">\n",
       "      <th></th>\n",
       "      <th>id</th>\n",
       "      <th>var</th>\n",
       "      <th>t</th>\n",
       "      <th>p</th>\n",
       "      <th>Sig</th>\n",
       "    </tr>\n",
       "  </thead>\n",
       "  <tbody>\n",
       "    <tr>\n",
       "      <th>0</th>\n",
       "      <td>Priority</td>\n",
       "      <td>3</td>\n",
       "      <td>14.863120</td>\n",
       "      <td>5.978799e-50</td>\n",
       "      <td>True</td>\n",
       "    </tr>\n",
       "    <tr>\n",
       "      <th>1</th>\n",
       "      <td>Priority</td>\n",
       "      <td>6</td>\n",
       "      <td>9.393613</td>\n",
       "      <td>5.856312e-21</td>\n",
       "      <td>True</td>\n",
       "    </tr>\n",
       "    <tr>\n",
       "      <th>2</th>\n",
       "      <td>Priority</td>\n",
       "      <td>1</td>\n",
       "      <td>1.723080</td>\n",
       "      <td>8.488076e-02</td>\n",
       "      <td>False</td>\n",
       "    </tr>\n",
       "    <tr>\n",
       "      <th>3</th>\n",
       "      <td>Priority</td>\n",
       "      <td>P</td>\n",
       "      <td>-2.368587</td>\n",
       "      <td>1.786028e-02</td>\n",
       "      <td>True</td>\n",
       "    </tr>\n",
       "    <tr>\n",
       "      <th>4</th>\n",
       "      <td>Priority</td>\n",
       "      <td>7</td>\n",
       "      <td>11.591473</td>\n",
       "      <td>5.101464e-31</td>\n",
       "      <td>True</td>\n",
       "    </tr>\n",
       "    <tr>\n",
       "      <th>5</th>\n",
       "      <td>Priority</td>\n",
       "      <td>5</td>\n",
       "      <td>2.349007</td>\n",
       "      <td>1.882803e-02</td>\n",
       "      <td>True</td>\n",
       "    </tr>\n",
       "    <tr>\n",
       "      <th>6</th>\n",
       "      <td>Priority</td>\n",
       "      <td>4</td>\n",
       "      <td>-1.138983</td>\n",
       "      <td>2.547186e-01</td>\n",
       "      <td>False</td>\n",
       "    </tr>\n",
       "    <tr>\n",
       "      <th>7</th>\n",
       "      <td>Priority</td>\n",
       "      <td>2</td>\n",
       "      <td>1.609850</td>\n",
       "      <td>1.074862e-01</td>\n",
       "      <td>False</td>\n",
       "    </tr>\n",
       "    <tr>\n",
       "      <th>8</th>\n",
       "      <td>Priority</td>\n",
       "      <td>8</td>\n",
       "      <td>1.819236</td>\n",
       "      <td>6.902421e-02</td>\n",
       "      <td>False</td>\n",
       "    </tr>\n",
       "    <tr>\n",
       "      <th>9</th>\n",
       "      <td>Priority</td>\n",
       "      <td>9</td>\n",
       "      <td>-0.246382</td>\n",
       "      <td>8.054050e-01</td>\n",
       "      <td>False</td>\n",
       "    </tr>\n",
       "    <tr>\n",
       "      <th>10</th>\n",
       "      <td>Call Type</td>\n",
       "      <td>Violent Crime</td>\n",
       "      <td>1.208938</td>\n",
       "      <td>2.266959e-01</td>\n",
       "      <td>False</td>\n",
       "    </tr>\n",
       "    <tr>\n",
       "      <th>11</th>\n",
       "      <td>Call Type</td>\n",
       "      <td>Traffic &amp; Vehicle</td>\n",
       "      <td>7.663698</td>\n",
       "      <td>1.819185e-14</td>\n",
       "      <td>True</td>\n",
       "    </tr>\n",
       "    <tr>\n",
       "      <th>12</th>\n",
       "      <td>Call Type</td>\n",
       "      <td>Mental Health &amp; Medical</td>\n",
       "      <td>6.019707</td>\n",
       "      <td>1.755372e-09</td>\n",
       "      <td>True</td>\n",
       "    </tr>\n",
       "    <tr>\n",
       "      <th>13</th>\n",
       "      <td>Call Type</td>\n",
       "      <td>Other / Unclassified</td>\n",
       "      <td>35.022254</td>\n",
       "      <td>3.741193e-266</td>\n",
       "      <td>True</td>\n",
       "    </tr>\n",
       "    <tr>\n",
       "      <th>14</th>\n",
       "      <td>Call Type</td>\n",
       "      <td>Disorder &amp; Public Safety</td>\n",
       "      <td>12.768292</td>\n",
       "      <td>2.602030e-37</td>\n",
       "      <td>True</td>\n",
       "    </tr>\n",
       "    <tr>\n",
       "      <th>15</th>\n",
       "      <td>Call Type</td>\n",
       "      <td>Suspicious / Investigative</td>\n",
       "      <td>5.108701</td>\n",
       "      <td>3.264162e-07</td>\n",
       "      <td>True</td>\n",
       "    </tr>\n",
       "    <tr>\n",
       "      <th>16</th>\n",
       "      <td>Call Type</td>\n",
       "      <td>Miscellaneous</td>\n",
       "      <td>3.152739</td>\n",
       "      <td>1.620768e-03</td>\n",
       "      <td>True</td>\n",
       "    </tr>\n",
       "    <tr>\n",
       "      <th>17</th>\n",
       "      <td>Call Type</td>\n",
       "      <td>Public Assistance</td>\n",
       "      <td>49.346984</td>\n",
       "      <td>0.000000e+00</td>\n",
       "      <td>True</td>\n",
       "    </tr>\n",
       "    <tr>\n",
       "      <th>18</th>\n",
       "      <td>Call Type</td>\n",
       "      <td>Animal-related</td>\n",
       "      <td>-2.361499</td>\n",
       "      <td>1.821283e-02</td>\n",
       "      <td>True</td>\n",
       "    </tr>\n",
       "    <tr>\n",
       "      <th>19</th>\n",
       "      <td>Call Type</td>\n",
       "      <td>Theft &amp; Property</td>\n",
       "      <td>1.365136</td>\n",
       "      <td>1.722146e-01</td>\n",
       "      <td>False</td>\n",
       "    </tr>\n",
       "    <tr>\n",
       "      <th>20</th>\n",
       "      <td>Call Type</td>\n",
       "      <td>Abuse &amp; Welfare</td>\n",
       "      <td>-0.233720</td>\n",
       "      <td>8.152074e-01</td>\n",
       "      <td>False</td>\n",
       "    </tr>\n",
       "    <tr>\n",
       "      <th>21</th>\n",
       "      <td>Time of Day</td>\n",
       "      <td>Night</td>\n",
       "      <td>36.170859</td>\n",
       "      <td>9.417763e-286</td>\n",
       "      <td>True</td>\n",
       "    </tr>\n",
       "    <tr>\n",
       "      <th>22</th>\n",
       "      <td>Time of Day</td>\n",
       "      <td>Morning</td>\n",
       "      <td>18.530146</td>\n",
       "      <td>1.410167e-76</td>\n",
       "      <td>True</td>\n",
       "    </tr>\n",
       "    <tr>\n",
       "      <th>23</th>\n",
       "      <td>Time of Day</td>\n",
       "      <td>Afternoon</td>\n",
       "      <td>16.284403</td>\n",
       "      <td>1.410180e-59</td>\n",
       "      <td>True</td>\n",
       "    </tr>\n",
       "    <tr>\n",
       "      <th>24</th>\n",
       "      <td>Time of Day</td>\n",
       "      <td>Evening</td>\n",
       "      <td>9.415082</td>\n",
       "      <td>4.821393e-21</td>\n",
       "      <td>True</td>\n",
       "    </tr>\n",
       "    <tr>\n",
       "      <th>25</th>\n",
       "      <td>Day of Week</td>\n",
       "      <td>Thursday</td>\n",
       "      <td>21.665227</td>\n",
       "      <td>7.298516e-104</td>\n",
       "      <td>True</td>\n",
       "    </tr>\n",
       "    <tr>\n",
       "      <th>26</th>\n",
       "      <td>Day of Week</td>\n",
       "      <td>Friday</td>\n",
       "      <td>16.994414</td>\n",
       "      <td>1.117721e-64</td>\n",
       "      <td>True</td>\n",
       "    </tr>\n",
       "    <tr>\n",
       "      <th>27</th>\n",
       "      <td>Day of Week</td>\n",
       "      <td>Saturday</td>\n",
       "      <td>7.231687</td>\n",
       "      <td>4.810412e-13</td>\n",
       "      <td>True</td>\n",
       "    </tr>\n",
       "    <tr>\n",
       "      <th>28</th>\n",
       "      <td>Day of Week</td>\n",
       "      <td>Sunday</td>\n",
       "      <td>9.184946</td>\n",
       "      <td>4.198575e-20</td>\n",
       "      <td>True</td>\n",
       "    </tr>\n",
       "    <tr>\n",
       "      <th>29</th>\n",
       "      <td>Day of Week</td>\n",
       "      <td>Monday</td>\n",
       "      <td>21.500335</td>\n",
       "      <td>2.634479e-102</td>\n",
       "      <td>True</td>\n",
       "    </tr>\n",
       "    <tr>\n",
       "      <th>30</th>\n",
       "      <td>Day of Week</td>\n",
       "      <td>Tuseday</td>\n",
       "      <td>12.954991</td>\n",
       "      <td>2.358965e-38</td>\n",
       "      <td>True</td>\n",
       "    </tr>\n",
       "    <tr>\n",
       "      <th>31</th>\n",
       "      <td>Day of Week</td>\n",
       "      <td>Wednesday</td>\n",
       "      <td>25.601893</td>\n",
       "      <td>3.927486e-144</td>\n",
       "      <td>True</td>\n",
       "    </tr>\n",
       "  </tbody>\n",
       "</table>\n",
       "</div>"
      ],
      "text/plain": [
       "             id                         var          t              p    Sig\n",
       "0      Priority                           3  14.863120   5.978799e-50   True\n",
       "1      Priority                           6   9.393613   5.856312e-21   True\n",
       "2      Priority                           1   1.723080   8.488076e-02  False\n",
       "3      Priority                           P  -2.368587   1.786028e-02   True\n",
       "4      Priority                           7  11.591473   5.101464e-31   True\n",
       "5      Priority                           5   2.349007   1.882803e-02   True\n",
       "6      Priority                           4  -1.138983   2.547186e-01  False\n",
       "7      Priority                           2   1.609850   1.074862e-01  False\n",
       "8      Priority                           8   1.819236   6.902421e-02  False\n",
       "9      Priority                           9  -0.246382   8.054050e-01  False\n",
       "10    Call Type               Violent Crime   1.208938   2.266959e-01  False\n",
       "11    Call Type           Traffic & Vehicle   7.663698   1.819185e-14   True\n",
       "12    Call Type     Mental Health & Medical   6.019707   1.755372e-09   True\n",
       "13    Call Type        Other / Unclassified  35.022254  3.741193e-266   True\n",
       "14    Call Type    Disorder & Public Safety  12.768292   2.602030e-37   True\n",
       "15    Call Type  Suspicious / Investigative   5.108701   3.264162e-07   True\n",
       "16    Call Type               Miscellaneous   3.152739   1.620768e-03   True\n",
       "17    Call Type           Public Assistance  49.346984   0.000000e+00   True\n",
       "18    Call Type              Animal-related  -2.361499   1.821283e-02   True\n",
       "19    Call Type            Theft & Property   1.365136   1.722146e-01  False\n",
       "20    Call Type             Abuse & Welfare  -0.233720   8.152074e-01  False\n",
       "21  Time of Day                       Night  36.170859  9.417763e-286   True\n",
       "22  Time of Day                     Morning  18.530146   1.410167e-76   True\n",
       "23  Time of Day                   Afternoon  16.284403   1.410180e-59   True\n",
       "24  Time of Day                     Evening   9.415082   4.821393e-21   True\n",
       "25  Day of Week                    Thursday  21.665227  7.298516e-104   True\n",
       "26  Day of Week                      Friday  16.994414   1.117721e-64   True\n",
       "27  Day of Week                    Saturday   7.231687   4.810412e-13   True\n",
       "28  Day of Week                      Sunday   9.184946   4.198575e-20   True\n",
       "29  Day of Week                      Monday  21.500335  2.634479e-102   True\n",
       "30  Day of Week                     Tuseday  12.954991   2.358965e-38   True\n",
       "31  Day of Week                   Wednesday  25.601893  3.927486e-144   True"
      ]
     },
     "execution_count": 241,
     "metadata": {},
     "output_type": "execute_result"
    }
   ],
   "source": [
    "varaibles = [priority, call, tod, dow]\n",
    "id = ['Priority', 'Call Type', 'Time of Day', 'Day of Week']\n",
    "results = {'id': [], 'var': [], 't': [], 'p': []}\n",
    "\n",
    "for df, key in zip(varaibles, id):\n",
    "    for subset in df.iloc[:,0].unique():\n",
    "        sub = df[df.iloc[:,0] == subset]\n",
    "        cahoots = sub[sub['RespondingUnitCallSign'] == 'CAHOOTS']\n",
    "        epd = sub[sub['RespondingUnitCallSign'] == 'EPD']\n",
    "\n",
    "        t, p = stats.ttest_ind(cahoots['Response_Time'], epd['Response_Time'])\n",
    "        results['id'].append(key)\n",
    "        results['var'].append(subset)\n",
    "        results['t'].append(t)\n",
    "        results['p'].append(p)\n",
    "\n",
    "results = pd.DataFrame.from_dict(results)\n",
    "results['Sig'] = results['p'] <= 0.05\n",
    "\n",
    "grey = results[results['Sig']== False]['var'].to_numpy()\n",
    "results\n"
   ]
  },
  {
   "cell_type": "code",
   "execution_count": 246,
   "id": "243d5c7d",
   "metadata": {},
   "outputs": [],
   "source": [
    "results['GRAPH'] = results.shape[0] * [1]\n",
    "fig = px.sunburst(\n",
    "    results, \n",
    "    path = ['id', 'var'],\n",
    "    values = 'GRAPH',\n",
    "    color = 'Sig',\n",
    "\n",
    "    title= \"Statistical Significance of Diffrerences in Response Times\"\n",
    ")\n",
    "fig.write_image(\"../plots/Sunburst.png\")"
   ]
  },
  {
   "cell_type": "markdown",
   "id": "3ac59eb9",
   "metadata": {},
   "source": [
    "# General"
   ]
  },
  {
   "cell_type": "code",
   "execution_count": 265,
   "id": "d32749de",
   "metadata": {},
   "outputs": [
    {
     "data": {
      "application/vnd.plotly.v1+json": {
       "config": {
        "plotlyServerURL": "https://plot.ly"
       },
       "data": [
        {
         "alignmentgroup": "True",
         "hovertemplate": "RespondingUnitCallSign=CAHOOTS<br>variable=%{x}<br>Response_Time=%{y}<extra></extra>",
         "legendgroup": "CAHOOTS",
         "marker": {
          "color": "salmon",
          "pattern": {
           "shape": ""
          }
         },
         "name": "CAHOOTS",
         "offsetgroup": "CAHOOTS",
         "orientation": "v",
         "showlegend": true,
         "textposition": "auto",
         "type": "bar",
         "x": [
          "Call_Priority",
          "Day_Of_Week",
          "InitialIncidentTypeDescription",
          "Time_Of_Day"
         ],
         "xaxis": "x",
         "y": {
          "bdata": "hkh9kxVaKECGSH2TFVooQIZIfZMVWihAhkh9kxVaKEA=",
          "dtype": "f8"
         },
         "yaxis": "y"
        },
        {
         "alignmentgroup": "True",
         "hovertemplate": "RespondingUnitCallSign=EPD<br>variable=%{x}<br>Response_Time=%{y}<extra></extra>",
         "legendgroup": "EPD",
         "marker": {
          "color": "lightblue",
          "pattern": {
           "shape": ""
          }
         },
         "name": "EPD",
         "offsetgroup": "EPD",
         "orientation": "v",
         "showlegend": true,
         "textposition": "auto",
         "type": "bar",
         "x": [
          "Call_Priority",
          "Day_Of_Week",
          "InitialIncidentTypeDescription",
          "Time_Of_Day"
         ],
         "xaxis": "x",
         "y": {
          "bdata": "BTzMRf+ZHEAFPMxF/5kcQAU8zEX/mRxABTzMRf+ZHEA=",
          "dtype": "f8"
         },
         "yaxis": "y"
        }
       ],
       "layout": {
        "barmode": "group",
        "legend": {
         "title": {
          "text": "RespondingUnitCallSign"
         },
         "tracegroupgap": 0
        },
        "template": {
         "data": {
          "bar": [
           {
            "error_x": {
             "color": "#2a3f5f"
            },
            "error_y": {
             "color": "#2a3f5f"
            },
            "marker": {
             "line": {
              "color": "#E5ECF6",
              "width": 0.5
             },
             "pattern": {
              "fillmode": "overlay",
              "size": 10,
              "solidity": 0.2
             }
            },
            "type": "bar"
           }
          ],
          "barpolar": [
           {
            "marker": {
             "line": {
              "color": "#E5ECF6",
              "width": 0.5
             },
             "pattern": {
              "fillmode": "overlay",
              "size": 10,
              "solidity": 0.2
             }
            },
            "type": "barpolar"
           }
          ],
          "carpet": [
           {
            "aaxis": {
             "endlinecolor": "#2a3f5f",
             "gridcolor": "white",
             "linecolor": "white",
             "minorgridcolor": "white",
             "startlinecolor": "#2a3f5f"
            },
            "baxis": {
             "endlinecolor": "#2a3f5f",
             "gridcolor": "white",
             "linecolor": "white",
             "minorgridcolor": "white",
             "startlinecolor": "#2a3f5f"
            },
            "type": "carpet"
           }
          ],
          "choropleth": [
           {
            "colorbar": {
             "outlinewidth": 0,
             "ticks": ""
            },
            "type": "choropleth"
           }
          ],
          "contour": [
           {
            "colorbar": {
             "outlinewidth": 0,
             "ticks": ""
            },
            "colorscale": [
             [
              0,
              "#0d0887"
             ],
             [
              0.1111111111111111,
              "#46039f"
             ],
             [
              0.2222222222222222,
              "#7201a8"
             ],
             [
              0.3333333333333333,
              "#9c179e"
             ],
             [
              0.4444444444444444,
              "#bd3786"
             ],
             [
              0.5555555555555556,
              "#d8576b"
             ],
             [
              0.6666666666666666,
              "#ed7953"
             ],
             [
              0.7777777777777778,
              "#fb9f3a"
             ],
             [
              0.8888888888888888,
              "#fdca26"
             ],
             [
              1,
              "#f0f921"
             ]
            ],
            "type": "contour"
           }
          ],
          "contourcarpet": [
           {
            "colorbar": {
             "outlinewidth": 0,
             "ticks": ""
            },
            "type": "contourcarpet"
           }
          ],
          "heatmap": [
           {
            "colorbar": {
             "outlinewidth": 0,
             "ticks": ""
            },
            "colorscale": [
             [
              0,
              "#0d0887"
             ],
             [
              0.1111111111111111,
              "#46039f"
             ],
             [
              0.2222222222222222,
              "#7201a8"
             ],
             [
              0.3333333333333333,
              "#9c179e"
             ],
             [
              0.4444444444444444,
              "#bd3786"
             ],
             [
              0.5555555555555556,
              "#d8576b"
             ],
             [
              0.6666666666666666,
              "#ed7953"
             ],
             [
              0.7777777777777778,
              "#fb9f3a"
             ],
             [
              0.8888888888888888,
              "#fdca26"
             ],
             [
              1,
              "#f0f921"
             ]
            ],
            "type": "heatmap"
           }
          ],
          "histogram": [
           {
            "marker": {
             "pattern": {
              "fillmode": "overlay",
              "size": 10,
              "solidity": 0.2
             }
            },
            "type": "histogram"
           }
          ],
          "histogram2d": [
           {
            "colorbar": {
             "outlinewidth": 0,
             "ticks": ""
            },
            "colorscale": [
             [
              0,
              "#0d0887"
             ],
             [
              0.1111111111111111,
              "#46039f"
             ],
             [
              0.2222222222222222,
              "#7201a8"
             ],
             [
              0.3333333333333333,
              "#9c179e"
             ],
             [
              0.4444444444444444,
              "#bd3786"
             ],
             [
              0.5555555555555556,
              "#d8576b"
             ],
             [
              0.6666666666666666,
              "#ed7953"
             ],
             [
              0.7777777777777778,
              "#fb9f3a"
             ],
             [
              0.8888888888888888,
              "#fdca26"
             ],
             [
              1,
              "#f0f921"
             ]
            ],
            "type": "histogram2d"
           }
          ],
          "histogram2dcontour": [
           {
            "colorbar": {
             "outlinewidth": 0,
             "ticks": ""
            },
            "colorscale": [
             [
              0,
              "#0d0887"
             ],
             [
              0.1111111111111111,
              "#46039f"
             ],
             [
              0.2222222222222222,
              "#7201a8"
             ],
             [
              0.3333333333333333,
              "#9c179e"
             ],
             [
              0.4444444444444444,
              "#bd3786"
             ],
             [
              0.5555555555555556,
              "#d8576b"
             ],
             [
              0.6666666666666666,
              "#ed7953"
             ],
             [
              0.7777777777777778,
              "#fb9f3a"
             ],
             [
              0.8888888888888888,
              "#fdca26"
             ],
             [
              1,
              "#f0f921"
             ]
            ],
            "type": "histogram2dcontour"
           }
          ],
          "mesh3d": [
           {
            "colorbar": {
             "outlinewidth": 0,
             "ticks": ""
            },
            "type": "mesh3d"
           }
          ],
          "parcoords": [
           {
            "line": {
             "colorbar": {
              "outlinewidth": 0,
              "ticks": ""
             }
            },
            "type": "parcoords"
           }
          ],
          "pie": [
           {
            "automargin": true,
            "type": "pie"
           }
          ],
          "scatter": [
           {
            "fillpattern": {
             "fillmode": "overlay",
             "size": 10,
             "solidity": 0.2
            },
            "type": "scatter"
           }
          ],
          "scatter3d": [
           {
            "line": {
             "colorbar": {
              "outlinewidth": 0,
              "ticks": ""
             }
            },
            "marker": {
             "colorbar": {
              "outlinewidth": 0,
              "ticks": ""
             }
            },
            "type": "scatter3d"
           }
          ],
          "scattercarpet": [
           {
            "marker": {
             "colorbar": {
              "outlinewidth": 0,
              "ticks": ""
             }
            },
            "type": "scattercarpet"
           }
          ],
          "scattergeo": [
           {
            "marker": {
             "colorbar": {
              "outlinewidth": 0,
              "ticks": ""
             }
            },
            "type": "scattergeo"
           }
          ],
          "scattergl": [
           {
            "marker": {
             "colorbar": {
              "outlinewidth": 0,
              "ticks": ""
             }
            },
            "type": "scattergl"
           }
          ],
          "scattermap": [
           {
            "marker": {
             "colorbar": {
              "outlinewidth": 0,
              "ticks": ""
             }
            },
            "type": "scattermap"
           }
          ],
          "scattermapbox": [
           {
            "marker": {
             "colorbar": {
              "outlinewidth": 0,
              "ticks": ""
             }
            },
            "type": "scattermapbox"
           }
          ],
          "scatterpolar": [
           {
            "marker": {
             "colorbar": {
              "outlinewidth": 0,
              "ticks": ""
             }
            },
            "type": "scatterpolar"
           }
          ],
          "scatterpolargl": [
           {
            "marker": {
             "colorbar": {
              "outlinewidth": 0,
              "ticks": ""
             }
            },
            "type": "scatterpolargl"
           }
          ],
          "scatterternary": [
           {
            "marker": {
             "colorbar": {
              "outlinewidth": 0,
              "ticks": ""
             }
            },
            "type": "scatterternary"
           }
          ],
          "surface": [
           {
            "colorbar": {
             "outlinewidth": 0,
             "ticks": ""
            },
            "colorscale": [
             [
              0,
              "#0d0887"
             ],
             [
              0.1111111111111111,
              "#46039f"
             ],
             [
              0.2222222222222222,
              "#7201a8"
             ],
             [
              0.3333333333333333,
              "#9c179e"
             ],
             [
              0.4444444444444444,
              "#bd3786"
             ],
             [
              0.5555555555555556,
              "#d8576b"
             ],
             [
              0.6666666666666666,
              "#ed7953"
             ],
             [
              0.7777777777777778,
              "#fb9f3a"
             ],
             [
              0.8888888888888888,
              "#fdca26"
             ],
             [
              1,
              "#f0f921"
             ]
            ],
            "type": "surface"
           }
          ],
          "table": [
           {
            "cells": {
             "fill": {
              "color": "#EBF0F8"
             },
             "line": {
              "color": "white"
             }
            },
            "header": {
             "fill": {
              "color": "#C8D4E3"
             },
             "line": {
              "color": "white"
             }
            },
            "type": "table"
           }
          ]
         },
         "layout": {
          "annotationdefaults": {
           "arrowcolor": "#2a3f5f",
           "arrowhead": 0,
           "arrowwidth": 1
          },
          "autotypenumbers": "strict",
          "coloraxis": {
           "colorbar": {
            "outlinewidth": 0,
            "ticks": ""
           }
          },
          "colorscale": {
           "diverging": [
            [
             0,
             "#8e0152"
            ],
            [
             0.1,
             "#c51b7d"
            ],
            [
             0.2,
             "#de77ae"
            ],
            [
             0.3,
             "#f1b6da"
            ],
            [
             0.4,
             "#fde0ef"
            ],
            [
             0.5,
             "#f7f7f7"
            ],
            [
             0.6,
             "#e6f5d0"
            ],
            [
             0.7,
             "#b8e186"
            ],
            [
             0.8,
             "#7fbc41"
            ],
            [
             0.9,
             "#4d9221"
            ],
            [
             1,
             "#276419"
            ]
           ],
           "sequential": [
            [
             0,
             "#0d0887"
            ],
            [
             0.1111111111111111,
             "#46039f"
            ],
            [
             0.2222222222222222,
             "#7201a8"
            ],
            [
             0.3333333333333333,
             "#9c179e"
            ],
            [
             0.4444444444444444,
             "#bd3786"
            ],
            [
             0.5555555555555556,
             "#d8576b"
            ],
            [
             0.6666666666666666,
             "#ed7953"
            ],
            [
             0.7777777777777778,
             "#fb9f3a"
            ],
            [
             0.8888888888888888,
             "#fdca26"
            ],
            [
             1,
             "#f0f921"
            ]
           ],
           "sequentialminus": [
            [
             0,
             "#0d0887"
            ],
            [
             0.1111111111111111,
             "#46039f"
            ],
            [
             0.2222222222222222,
             "#7201a8"
            ],
            [
             0.3333333333333333,
             "#9c179e"
            ],
            [
             0.4444444444444444,
             "#bd3786"
            ],
            [
             0.5555555555555556,
             "#d8576b"
            ],
            [
             0.6666666666666666,
             "#ed7953"
            ],
            [
             0.7777777777777778,
             "#fb9f3a"
            ],
            [
             0.8888888888888888,
             "#fdca26"
            ],
            [
             1,
             "#f0f921"
            ]
           ]
          },
          "colorway": [
           "#636efa",
           "#EF553B",
           "#00cc96",
           "#ab63fa",
           "#FFA15A",
           "#19d3f3",
           "#FF6692",
           "#B6E880",
           "#FF97FF",
           "#FECB52"
          ],
          "font": {
           "color": "#2a3f5f"
          },
          "geo": {
           "bgcolor": "white",
           "lakecolor": "white",
           "landcolor": "#E5ECF6",
           "showlakes": true,
           "showland": true,
           "subunitcolor": "white"
          },
          "hoverlabel": {
           "align": "left"
          },
          "hovermode": "closest",
          "mapbox": {
           "style": "light"
          },
          "paper_bgcolor": "white",
          "plot_bgcolor": "#E5ECF6",
          "polar": {
           "angularaxis": {
            "gridcolor": "white",
            "linecolor": "white",
            "ticks": ""
           },
           "bgcolor": "#E5ECF6",
           "radialaxis": {
            "gridcolor": "white",
            "linecolor": "white",
            "ticks": ""
           }
          },
          "scene": {
           "xaxis": {
            "backgroundcolor": "#E5ECF6",
            "gridcolor": "white",
            "gridwidth": 2,
            "linecolor": "white",
            "showbackground": true,
            "ticks": "",
            "zerolinecolor": "white"
           },
           "yaxis": {
            "backgroundcolor": "#E5ECF6",
            "gridcolor": "white",
            "gridwidth": 2,
            "linecolor": "white",
            "showbackground": true,
            "ticks": "",
            "zerolinecolor": "white"
           },
           "zaxis": {
            "backgroundcolor": "#E5ECF6",
            "gridcolor": "white",
            "gridwidth": 2,
            "linecolor": "white",
            "showbackground": true,
            "ticks": "",
            "zerolinecolor": "white"
           }
          },
          "shapedefaults": {
           "line": {
            "color": "#2a3f5f"
           }
          },
          "ternary": {
           "aaxis": {
            "gridcolor": "white",
            "linecolor": "white",
            "ticks": ""
           },
           "baxis": {
            "gridcolor": "white",
            "linecolor": "white",
            "ticks": ""
           },
           "bgcolor": "#E5ECF6",
           "caxis": {
            "gridcolor": "white",
            "linecolor": "white",
            "ticks": ""
           }
          },
          "title": {
           "x": 0.05
          },
          "xaxis": {
           "automargin": true,
           "gridcolor": "white",
           "linecolor": "white",
           "ticks": "",
           "title": {
            "standoff": 15
           },
           "zerolinecolor": "white",
           "zerolinewidth": 2
          },
          "yaxis": {
           "automargin": true,
           "gridcolor": "white",
           "linecolor": "white",
           "ticks": "",
           "title": {
            "standoff": 15
           },
           "zerolinecolor": "white",
           "zerolinewidth": 2
          }
         }
        },
        "title": {
         "text": "Average Response Time by Category"
        },
        "xaxis": {
         "anchor": "y",
         "domain": [
          0,
          1
         ],
         "title": {
          "text": "variable"
         }
        },
        "yaxis": {
         "anchor": "x",
         "domain": [
          0,
          1
         ],
         "title": {
          "text": "Response_Time"
         }
        }
       }
      }
     },
     "metadata": {},
     "output_type": "display_data"
    }
   ],
   "source": [
    "color_map = {'EPD': 'lightblue', 'CAHOOTS': 'salmon'}\n",
    "general = data[['Call_Priority', 'InitialIncidentTypeDescription', 'Day_Of_Week', 'RespondingUnitCallSign', 'Response_Time', 'Time_Of_Day']].melt(\n",
    "    id_vars =('RespondingUnitCallSign', 'Response_Time'),).drop(columns =  {'value'}).groupby(['RespondingUnitCallSign', 'variable']).mean().reset_index()\n",
    "fig = px.bar(general,\n",
    "              x='variable',\n",
    "                y='Response_Time',\n",
    "                  color_discrete_map=color_map,\n",
    "                    barmode='group',\n",
    "                      title = 'Average Response Time by Category',\n",
    "\n",
    "                       color = 'RespondingUnitCallSign',)\n",
    "fig.write_image('../plots/General.png')\n",
    "fig"
   ]
  },
  {
   "cell_type": "markdown",
   "id": "55b54e79",
   "metadata": {},
   "source": [
    "### Priority"
   ]
  },
  {
   "cell_type": "code",
   "execution_count": 286,
   "id": "797c30b5-110d-40c7-b05e-773ea8de018f",
   "metadata": {},
   "outputs": [
    {
     "data": {
      "application/vnd.plotly.v1+json": {
       "config": {
        "plotlyServerURL": "https://plot.ly"
       },
       "data": [
        {
         "alignmentgroup": "True",
         "error_y": {
          "array": {
           "bdata": "6M78lWJTyz92ijbD2OfoP6A/yhH4n74/Q4PoZKLt6j98gXpcrwm9PxVVFkCOCec/bv0/XFM9wj+dyKvvxR72P5/z554cW/E/FOXW8RExyj8=",
           "dtype": "f8"
          },
          "color": "white"
         },
         "hovertemplate": "RespondingUnitCallSign=CAHOOTS<br>Call_Priority=%{x}<br>Average Response Time (Minutes)=%{y}<extra></extra>",
         "legendgroup": "CAHOOTS",
         "marker": {
          "color": [
           "grey",
           "grey",
           "salmon",
           "grey",
           "salmon",
           "salmon",
           "salmon",
           "grey",
           "grey",
           "salmon"
          ],
          "opacity": 0.96,
          "pattern": {
           "shape": ""
          }
         },
         "name": "CAHOOTS",
         "offsetgroup": "CAHOOTS",
         "orientation": "v",
         "showlegend": true,
         "textposition": "auto",
         "type": "bar",
         "x": [
          "1",
          "2",
          "3",
          "4",
          "5",
          "6",
          "7",
          "8",
          "9",
          "P"
         ],
         "xaxis": "x",
         "y": {
          "bdata": "y/qJN0BaKECfRljuaYQjQMTjVGcNlyZA0BQCTSHQKkCbpbAARfQmQHriUPjq0xxAnIv/XJpMKkBPT09PT08pQJTXUF5DeR1AwT7BPsG+FUA=",
          "dtype": "f8"
         },
         "yaxis": "y"
        },
        {
         "alignmentgroup": "True",
         "error_y": {
          "array": {
           "bdata": "Mio/px1/4T8HT7rsN0zDPy9/bpHU0KE/Jg+Uhko2xj/6lu1cjVfLPxuoEb3mWKM/VjaTfJw40D/bL+qNxUfgPy4GCQfW8tQ/hXKAuCUMuD8=",
           "dtype": "f8"
          },
          "color": "white"
         },
         "hovertemplate": "RespondingUnitCallSign=EPD<br>Call_Priority=%{x}<br>Average Response Time (Minutes)=%{y}<extra></extra>",
         "legendgroup": "EPD",
         "marker": {
          "color": [
           "grey",
           "grey",
           "lightblue",
           "grey",
           "lightblue",
           "lightblue",
           "lightblue",
           "grey",
           "grey",
           "lightblue"
          ],
          "opacity": 0.96,
          "pattern": {
           "shape": ""
          }
         },
         "name": "EPD",
         "offsetgroup": "EPD",
         "orientation": "v",
         "showlegend": true,
         "textposition": "auto",
         "type": "bar",
         "x": [
          "1",
          "2",
          "3",
          "4",
          "5",
          "6",
          "7",
          "8",
          "9",
          "P"
         ],
         "xaxis": "x",
         "y": {
          "bdata": "mhN7Q9/SIUB+XP2NPXUdQDtbkkrYYyFAXWZ4sbxoL0A/n2RulxAlQFUImitHAwZAh+cTWw3/HEBEzWB2cxYkQL3Kq7zKqyBA809dozHlGUA=",
          "dtype": "f8"
         },
         "yaxis": "y"
        },
        {
         "hoverinfo": "skip",
         "marker": {
          "color": "salmon"
         },
         "name": "CAHOOTS",
         "showlegend": true,
         "type": "bar",
         "x": [
          null
         ],
         "y": [
          null
         ]
        },
        {
         "hoverinfo": "skip",
         "marker": {
          "color": "lightblue"
         },
         "name": "EPD",
         "showlegend": true,
         "type": "bar",
         "x": [
          null
         ],
         "y": [
          null
         ]
        }
       ],
       "layout": {
        "barmode": "group",
        "font": {
         "color": "white"
        },
        "legend": {
         "title": {
          "text": "Responding Unit"
         },
         "tracegroupgap": 0
        },
        "margin": {
         "t": 60
        },
        "paper_bgcolor": "rgba(0,0,0,0)",
        "plot_bgcolor": "rgba(0,0,0,0)",
        "showlegend": true,
        "template": {
         "data": {
          "bar": [
           {
            "error_x": {
             "color": "#2a3f5f"
            },
            "error_y": {
             "color": "#2a3f5f"
            },
            "marker": {
             "line": {
              "color": "#E5ECF6",
              "width": 0.5
             },
             "pattern": {
              "fillmode": "overlay",
              "size": 10,
              "solidity": 0.2
             }
            },
            "type": "bar"
           }
          ],
          "barpolar": [
           {
            "marker": {
             "line": {
              "color": "#E5ECF6",
              "width": 0.5
             },
             "pattern": {
              "fillmode": "overlay",
              "size": 10,
              "solidity": 0.2
             }
            },
            "type": "barpolar"
           }
          ],
          "carpet": [
           {
            "aaxis": {
             "endlinecolor": "#2a3f5f",
             "gridcolor": "white",
             "linecolor": "white",
             "minorgridcolor": "white",
             "startlinecolor": "#2a3f5f"
            },
            "baxis": {
             "endlinecolor": "#2a3f5f",
             "gridcolor": "white",
             "linecolor": "white",
             "minorgridcolor": "white",
             "startlinecolor": "#2a3f5f"
            },
            "type": "carpet"
           }
          ],
          "choropleth": [
           {
            "colorbar": {
             "outlinewidth": 0,
             "ticks": ""
            },
            "type": "choropleth"
           }
          ],
          "contour": [
           {
            "colorbar": {
             "outlinewidth": 0,
             "ticks": ""
            },
            "colorscale": [
             [
              0,
              "#0d0887"
             ],
             [
              0.1111111111111111,
              "#46039f"
             ],
             [
              0.2222222222222222,
              "#7201a8"
             ],
             [
              0.3333333333333333,
              "#9c179e"
             ],
             [
              0.4444444444444444,
              "#bd3786"
             ],
             [
              0.5555555555555556,
              "#d8576b"
             ],
             [
              0.6666666666666666,
              "#ed7953"
             ],
             [
              0.7777777777777778,
              "#fb9f3a"
             ],
             [
              0.8888888888888888,
              "#fdca26"
             ],
             [
              1,
              "#f0f921"
             ]
            ],
            "type": "contour"
           }
          ],
          "contourcarpet": [
           {
            "colorbar": {
             "outlinewidth": 0,
             "ticks": ""
            },
            "type": "contourcarpet"
           }
          ],
          "heatmap": [
           {
            "colorbar": {
             "outlinewidth": 0,
             "ticks": ""
            },
            "colorscale": [
             [
              0,
              "#0d0887"
             ],
             [
              0.1111111111111111,
              "#46039f"
             ],
             [
              0.2222222222222222,
              "#7201a8"
             ],
             [
              0.3333333333333333,
              "#9c179e"
             ],
             [
              0.4444444444444444,
              "#bd3786"
             ],
             [
              0.5555555555555556,
              "#d8576b"
             ],
             [
              0.6666666666666666,
              "#ed7953"
             ],
             [
              0.7777777777777778,
              "#fb9f3a"
             ],
             [
              0.8888888888888888,
              "#fdca26"
             ],
             [
              1,
              "#f0f921"
             ]
            ],
            "type": "heatmap"
           }
          ],
          "histogram": [
           {
            "marker": {
             "pattern": {
              "fillmode": "overlay",
              "size": 10,
              "solidity": 0.2
             }
            },
            "type": "histogram"
           }
          ],
          "histogram2d": [
           {
            "colorbar": {
             "outlinewidth": 0,
             "ticks": ""
            },
            "colorscale": [
             [
              0,
              "#0d0887"
             ],
             [
              0.1111111111111111,
              "#46039f"
             ],
             [
              0.2222222222222222,
              "#7201a8"
             ],
             [
              0.3333333333333333,
              "#9c179e"
             ],
             [
              0.4444444444444444,
              "#bd3786"
             ],
             [
              0.5555555555555556,
              "#d8576b"
             ],
             [
              0.6666666666666666,
              "#ed7953"
             ],
             [
              0.7777777777777778,
              "#fb9f3a"
             ],
             [
              0.8888888888888888,
              "#fdca26"
             ],
             [
              1,
              "#f0f921"
             ]
            ],
            "type": "histogram2d"
           }
          ],
          "histogram2dcontour": [
           {
            "colorbar": {
             "outlinewidth": 0,
             "ticks": ""
            },
            "colorscale": [
             [
              0,
              "#0d0887"
             ],
             [
              0.1111111111111111,
              "#46039f"
             ],
             [
              0.2222222222222222,
              "#7201a8"
             ],
             [
              0.3333333333333333,
              "#9c179e"
             ],
             [
              0.4444444444444444,
              "#bd3786"
             ],
             [
              0.5555555555555556,
              "#d8576b"
             ],
             [
              0.6666666666666666,
              "#ed7953"
             ],
             [
              0.7777777777777778,
              "#fb9f3a"
             ],
             [
              0.8888888888888888,
              "#fdca26"
             ],
             [
              1,
              "#f0f921"
             ]
            ],
            "type": "histogram2dcontour"
           }
          ],
          "mesh3d": [
           {
            "colorbar": {
             "outlinewidth": 0,
             "ticks": ""
            },
            "type": "mesh3d"
           }
          ],
          "parcoords": [
           {
            "line": {
             "colorbar": {
              "outlinewidth": 0,
              "ticks": ""
             }
            },
            "type": "parcoords"
           }
          ],
          "pie": [
           {
            "automargin": true,
            "type": "pie"
           }
          ],
          "scatter": [
           {
            "fillpattern": {
             "fillmode": "overlay",
             "size": 10,
             "solidity": 0.2
            },
            "type": "scatter"
           }
          ],
          "scatter3d": [
           {
            "line": {
             "colorbar": {
              "outlinewidth": 0,
              "ticks": ""
             }
            },
            "marker": {
             "colorbar": {
              "outlinewidth": 0,
              "ticks": ""
             }
            },
            "type": "scatter3d"
           }
          ],
          "scattercarpet": [
           {
            "marker": {
             "colorbar": {
              "outlinewidth": 0,
              "ticks": ""
             }
            },
            "type": "scattercarpet"
           }
          ],
          "scattergeo": [
           {
            "marker": {
             "colorbar": {
              "outlinewidth": 0,
              "ticks": ""
             }
            },
            "type": "scattergeo"
           }
          ],
          "scattergl": [
           {
            "marker": {
             "colorbar": {
              "outlinewidth": 0,
              "ticks": ""
             }
            },
            "type": "scattergl"
           }
          ],
          "scattermap": [
           {
            "marker": {
             "colorbar": {
              "outlinewidth": 0,
              "ticks": ""
             }
            },
            "type": "scattermap"
           }
          ],
          "scattermapbox": [
           {
            "marker": {
             "colorbar": {
              "outlinewidth": 0,
              "ticks": ""
             }
            },
            "type": "scattermapbox"
           }
          ],
          "scatterpolar": [
           {
            "marker": {
             "colorbar": {
              "outlinewidth": 0,
              "ticks": ""
             }
            },
            "type": "scatterpolar"
           }
          ],
          "scatterpolargl": [
           {
            "marker": {
             "colorbar": {
              "outlinewidth": 0,
              "ticks": ""
             }
            },
            "type": "scatterpolargl"
           }
          ],
          "scatterternary": [
           {
            "marker": {
             "colorbar": {
              "outlinewidth": 0,
              "ticks": ""
             }
            },
            "type": "scatterternary"
           }
          ],
          "surface": [
           {
            "colorbar": {
             "outlinewidth": 0,
             "ticks": ""
            },
            "colorscale": [
             [
              0,
              "#0d0887"
             ],
             [
              0.1111111111111111,
              "#46039f"
             ],
             [
              0.2222222222222222,
              "#7201a8"
             ],
             [
              0.3333333333333333,
              "#9c179e"
             ],
             [
              0.4444444444444444,
              "#bd3786"
             ],
             [
              0.5555555555555556,
              "#d8576b"
             ],
             [
              0.6666666666666666,
              "#ed7953"
             ],
             [
              0.7777777777777778,
              "#fb9f3a"
             ],
             [
              0.8888888888888888,
              "#fdca26"
             ],
             [
              1,
              "#f0f921"
             ]
            ],
            "type": "surface"
           }
          ],
          "table": [
           {
            "cells": {
             "fill": {
              "color": "#EBF0F8"
             },
             "line": {
              "color": "white"
             }
            },
            "header": {
             "fill": {
              "color": "#C8D4E3"
             },
             "line": {
              "color": "white"
             }
            },
            "type": "table"
           }
          ]
         },
         "layout": {
          "annotationdefaults": {
           "arrowcolor": "#2a3f5f",
           "arrowhead": 0,
           "arrowwidth": 1
          },
          "autotypenumbers": "strict",
          "coloraxis": {
           "colorbar": {
            "outlinewidth": 0,
            "ticks": ""
           }
          },
          "colorscale": {
           "diverging": [
            [
             0,
             "#8e0152"
            ],
            [
             0.1,
             "#c51b7d"
            ],
            [
             0.2,
             "#de77ae"
            ],
            [
             0.3,
             "#f1b6da"
            ],
            [
             0.4,
             "#fde0ef"
            ],
            [
             0.5,
             "#f7f7f7"
            ],
            [
             0.6,
             "#e6f5d0"
            ],
            [
             0.7,
             "#b8e186"
            ],
            [
             0.8,
             "#7fbc41"
            ],
            [
             0.9,
             "#4d9221"
            ],
            [
             1,
             "#276419"
            ]
           ],
           "sequential": [
            [
             0,
             "#0d0887"
            ],
            [
             0.1111111111111111,
             "#46039f"
            ],
            [
             0.2222222222222222,
             "#7201a8"
            ],
            [
             0.3333333333333333,
             "#9c179e"
            ],
            [
             0.4444444444444444,
             "#bd3786"
            ],
            [
             0.5555555555555556,
             "#d8576b"
            ],
            [
             0.6666666666666666,
             "#ed7953"
            ],
            [
             0.7777777777777778,
             "#fb9f3a"
            ],
            [
             0.8888888888888888,
             "#fdca26"
            ],
            [
             1,
             "#f0f921"
            ]
           ],
           "sequentialminus": [
            [
             0,
             "#0d0887"
            ],
            [
             0.1111111111111111,
             "#46039f"
            ],
            [
             0.2222222222222222,
             "#7201a8"
            ],
            [
             0.3333333333333333,
             "#9c179e"
            ],
            [
             0.4444444444444444,
             "#bd3786"
            ],
            [
             0.5555555555555556,
             "#d8576b"
            ],
            [
             0.6666666666666666,
             "#ed7953"
            ],
            [
             0.7777777777777778,
             "#fb9f3a"
            ],
            [
             0.8888888888888888,
             "#fdca26"
            ],
            [
             1,
             "#f0f921"
            ]
           ]
          },
          "colorway": [
           "#636efa",
           "#EF553B",
           "#00cc96",
           "#ab63fa",
           "#FFA15A",
           "#19d3f3",
           "#FF6692",
           "#B6E880",
           "#FF97FF",
           "#FECB52"
          ],
          "font": {
           "color": "#2a3f5f"
          },
          "geo": {
           "bgcolor": "white",
           "lakecolor": "white",
           "landcolor": "#E5ECF6",
           "showlakes": true,
           "showland": true,
           "subunitcolor": "white"
          },
          "hoverlabel": {
           "align": "left"
          },
          "hovermode": "closest",
          "mapbox": {
           "style": "light"
          },
          "paper_bgcolor": "white",
          "plot_bgcolor": "#E5ECF6",
          "polar": {
           "angularaxis": {
            "gridcolor": "white",
            "linecolor": "white",
            "ticks": ""
           },
           "bgcolor": "#E5ECF6",
           "radialaxis": {
            "gridcolor": "white",
            "linecolor": "white",
            "ticks": ""
           }
          },
          "scene": {
           "xaxis": {
            "backgroundcolor": "#E5ECF6",
            "gridcolor": "white",
            "gridwidth": 2,
            "linecolor": "white",
            "showbackground": true,
            "ticks": "",
            "zerolinecolor": "white"
           },
           "yaxis": {
            "backgroundcolor": "#E5ECF6",
            "gridcolor": "white",
            "gridwidth": 2,
            "linecolor": "white",
            "showbackground": true,
            "ticks": "",
            "zerolinecolor": "white"
           },
           "zaxis": {
            "backgroundcolor": "#E5ECF6",
            "gridcolor": "white",
            "gridwidth": 2,
            "linecolor": "white",
            "showbackground": true,
            "ticks": "",
            "zerolinecolor": "white"
           }
          },
          "shapedefaults": {
           "line": {
            "color": "#2a3f5f"
           }
          },
          "ternary": {
           "aaxis": {
            "gridcolor": "white",
            "linecolor": "white",
            "ticks": ""
           },
           "baxis": {
            "gridcolor": "white",
            "linecolor": "white",
            "ticks": ""
           },
           "bgcolor": "#E5ECF6",
           "caxis": {
            "gridcolor": "white",
            "linecolor": "white",
            "ticks": ""
           }
          },
          "title": {
           "x": 0.05
          },
          "xaxis": {
           "automargin": true,
           "gridcolor": "white",
           "linecolor": "white",
           "ticks": "",
           "title": {
            "standoff": 15
           },
           "zerolinecolor": "white",
           "zerolinewidth": 2
          },
          "yaxis": {
           "automargin": true,
           "gridcolor": "white",
           "linecolor": "white",
           "ticks": "",
           "title": {
            "standoff": 15
           },
           "zerolinecolor": "white",
           "zerolinewidth": 2
          }
         }
        },
        "title": {
         "text": "Average Response Time by Priority(±1 SD)",
         "x": 0.45
        },
        "xaxis": {
         "anchor": "y",
         "domain": [
          0,
          1
         ],
         "title": {
          "text": "Priority"
         },
         "type": "category"
        },
        "yaxis": {
         "anchor": "x",
         "domain": [
          0,
          1
         ],
         "range": [
          0,
          17
         ],
         "title": {
          "text": "Average Response Time (Minutes)"
         }
        }
       }
      }
     },
     "metadata": {},
     "output_type": "display_data"
    },
    {
     "data": {
      "text/html": [
       "<div>\n",
       "<style scoped>\n",
       "    .dataframe tbody tr th:only-of-type {\n",
       "        vertical-align: middle;\n",
       "    }\n",
       "\n",
       "    .dataframe tbody tr th {\n",
       "        vertical-align: top;\n",
       "    }\n",
       "\n",
       "    .dataframe thead th {\n",
       "        text-align: right;\n",
       "    }\n",
       "</style>\n",
       "<table border=\"1\" class=\"dataframe\">\n",
       "  <thead>\n",
       "    <tr style=\"text-align: right;\">\n",
       "      <th></th>\n",
       "      <th>Call_Priority</th>\n",
       "      <th>RespondingUnitCallSign</th>\n",
       "      <th>Mean_Response</th>\n",
       "      <th>Std_Response</th>\n",
       "      <th>Count</th>\n",
       "      <th>Std_Error</th>\n",
       "    </tr>\n",
       "  </thead>\n",
       "  <tbody>\n",
       "    <tr>\n",
       "      <th>0</th>\n",
       "      <td>1</td>\n",
       "      <td>CAHOOTS</td>\n",
       "      <td>12.176271</td>\n",
       "      <td>12.701743</td>\n",
       "      <td>3540</td>\n",
       "      <td>0.213482</td>\n",
       "    </tr>\n",
       "    <tr>\n",
       "      <th>1</th>\n",
       "      <td>1</td>\n",
       "      <td>EPD</td>\n",
       "      <td>8.911860</td>\n",
       "      <td>112.659228</td>\n",
       "      <td>42455</td>\n",
       "      <td>0.546767</td>\n",
       "    </tr>\n",
       "    <tr>\n",
       "      <th>2</th>\n",
       "      <td>2</td>\n",
       "      <td>CAHOOTS</td>\n",
       "      <td>9.758621</td>\n",
       "      <td>5.927368</td>\n",
       "      <td>58</td>\n",
       "      <td>0.778302</td>\n",
       "    </tr>\n",
       "    <tr>\n",
       "      <th>3</th>\n",
       "      <td>2</td>\n",
       "      <td>EPD</td>\n",
       "      <td>7.364493</td>\n",
       "      <td>11.309273</td>\n",
       "      <td>5627</td>\n",
       "      <td>0.150764</td>\n",
       "    </tr>\n",
       "    <tr>\n",
       "      <th>4</th>\n",
       "      <td>3</td>\n",
       "      <td>CAHOOTS</td>\n",
       "      <td>11.295024</td>\n",
       "      <td>12.416025</td>\n",
       "      <td>10772</td>\n",
       "      <td>0.119628</td>\n",
       "    </tr>\n",
       "    <tr>\n",
       "      <th>5</th>\n",
       "      <td>3</td>\n",
       "      <td>EPD</td>\n",
       "      <td>8.695010</td>\n",
       "      <td>17.983701</td>\n",
       "      <td>267110</td>\n",
       "      <td>0.034796</td>\n",
       "    </tr>\n",
       "    <tr>\n",
       "      <th>6</th>\n",
       "      <td>4</td>\n",
       "      <td>CAHOOTS</td>\n",
       "      <td>13.406504</td>\n",
       "      <td>13.198539</td>\n",
       "      <td>246</td>\n",
       "      <td>0.841508</td>\n",
       "    </tr>\n",
       "    <tr>\n",
       "      <th>7</th>\n",
       "      <td>4</td>\n",
       "      <td>EPD</td>\n",
       "      <td>15.704565</td>\n",
       "      <td>31.624719</td>\n",
       "      <td>33212</td>\n",
       "      <td>0.173532</td>\n",
       "    </tr>\n",
       "    <tr>\n",
       "      <th>8</th>\n",
       "      <td>5</td>\n",
       "      <td>CAHOOTS</td>\n",
       "      <td>11.477089</td>\n",
       "      <td>11.140325</td>\n",
       "      <td>9646</td>\n",
       "      <td>0.113429</td>\n",
       "    </tr>\n",
       "    <tr>\n",
       "      <th>9</th>\n",
       "      <td>5</td>\n",
       "      <td>EPD</td>\n",
       "      <td>10.532405</td>\n",
       "      <td>39.041461</td>\n",
       "      <td>33405</td>\n",
       "      <td>0.213609</td>\n",
       "    </tr>\n",
       "    <tr>\n",
       "      <th>10</th>\n",
       "      <td>6</td>\n",
       "      <td>CAHOOTS</td>\n",
       "      <td>7.206951</td>\n",
       "      <td>25.615271</td>\n",
       "      <td>1266</td>\n",
       "      <td>0.719916</td>\n",
       "    </tr>\n",
       "    <tr>\n",
       "      <th>11</th>\n",
       "      <td>6</td>\n",
       "      <td>EPD</td>\n",
       "      <td>2.751601</td>\n",
       "      <td>16.750199</td>\n",
       "      <td>196490</td>\n",
       "      <td>0.037788</td>\n",
       "    </tr>\n",
       "    <tr>\n",
       "      <th>12</th>\n",
       "      <td>7</td>\n",
       "      <td>CAHOOTS</td>\n",
       "      <td>13.149615</td>\n",
       "      <td>27.469690</td>\n",
       "      <td>37162</td>\n",
       "      <td>0.142497</td>\n",
       "    </tr>\n",
       "    <tr>\n",
       "      <th>13</th>\n",
       "      <td>7</td>\n",
       "      <td>EPD</td>\n",
       "      <td>7.249074</td>\n",
       "      <td>13.815057</td>\n",
       "      <td>2971</td>\n",
       "      <td>0.253455</td>\n",
       "    </tr>\n",
       "    <tr>\n",
       "      <th>14</th>\n",
       "      <td>8</td>\n",
       "      <td>CAHOOTS</td>\n",
       "      <td>12.654902</td>\n",
       "      <td>22.076962</td>\n",
       "      <td>255</td>\n",
       "      <td>1.382513</td>\n",
       "    </tr>\n",
       "    <tr>\n",
       "      <th>15</th>\n",
       "      <td>8</td>\n",
       "      <td>EPD</td>\n",
       "      <td>10.043850</td>\n",
       "      <td>21.319462</td>\n",
       "      <td>1756</td>\n",
       "      <td>0.508761</td>\n",
       "    </tr>\n",
       "    <tr>\n",
       "      <th>16</th>\n",
       "      <td>9</td>\n",
       "      <td>CAHOOTS</td>\n",
       "      <td>7.368421</td>\n",
       "      <td>4.728290</td>\n",
       "      <td>19</td>\n",
       "      <td>1.084744</td>\n",
       "    </tr>\n",
       "    <tr>\n",
       "      <th>17</th>\n",
       "      <td>9</td>\n",
       "      <td>EPD</td>\n",
       "      <td>8.335531</td>\n",
       "      <td>17.102354</td>\n",
       "      <td>2730</td>\n",
       "      <td>0.327322</td>\n",
       "    </tr>\n",
       "    <tr>\n",
       "      <th>18</th>\n",
       "      <td>P</td>\n",
       "      <td>CAHOOTS</td>\n",
       "      <td>5.436284</td>\n",
       "      <td>9.278226</td>\n",
       "      <td>2056</td>\n",
       "      <td>0.204623</td>\n",
       "    </tr>\n",
       "    <tr>\n",
       "      <th>19</th>\n",
       "      <td>P</td>\n",
       "      <td>EPD</td>\n",
       "      <td>6.473822</td>\n",
       "      <td>19.761061</td>\n",
       "      <td>44255</td>\n",
       "      <td>0.093935</td>\n",
       "    </tr>\n",
       "  </tbody>\n",
       "</table>\n",
       "</div>"
      ],
      "text/plain": [
       "   Call_Priority RespondingUnitCallSign  Mean_Response  Std_Response   Count  \\\n",
       "0              1                CAHOOTS      12.176271     12.701743    3540   \n",
       "1              1                    EPD       8.911860    112.659228   42455   \n",
       "2              2                CAHOOTS       9.758621      5.927368      58   \n",
       "3              2                    EPD       7.364493     11.309273    5627   \n",
       "4              3                CAHOOTS      11.295024     12.416025   10772   \n",
       "5              3                    EPD       8.695010     17.983701  267110   \n",
       "6              4                CAHOOTS      13.406504     13.198539     246   \n",
       "7              4                    EPD      15.704565     31.624719   33212   \n",
       "8              5                CAHOOTS      11.477089     11.140325    9646   \n",
       "9              5                    EPD      10.532405     39.041461   33405   \n",
       "10             6                CAHOOTS       7.206951     25.615271    1266   \n",
       "11             6                    EPD       2.751601     16.750199  196490   \n",
       "12             7                CAHOOTS      13.149615     27.469690   37162   \n",
       "13             7                    EPD       7.249074     13.815057    2971   \n",
       "14             8                CAHOOTS      12.654902     22.076962     255   \n",
       "15             8                    EPD      10.043850     21.319462    1756   \n",
       "16             9                CAHOOTS       7.368421      4.728290      19   \n",
       "17             9                    EPD       8.335531     17.102354    2730   \n",
       "18             P                CAHOOTS       5.436284      9.278226    2056   \n",
       "19             P                    EPD       6.473822     19.761061   44255   \n",
       "\n",
       "    Std_Error  \n",
       "0    0.213482  \n",
       "1    0.546767  \n",
       "2    0.778302  \n",
       "3    0.150764  \n",
       "4    0.119628  \n",
       "5    0.034796  \n",
       "6    0.841508  \n",
       "7    0.173532  \n",
       "8    0.113429  \n",
       "9    0.213609  \n",
       "10   0.719916  \n",
       "11   0.037788  \n",
       "12   0.142497  \n",
       "13   0.253455  \n",
       "14   1.382513  \n",
       "15   0.508761  \n",
       "16   1.084744  \n",
       "17   0.327322  \n",
       "18   0.204623  \n",
       "19   0.093935  "
      ]
     },
     "execution_count": 286,
     "metadata": {},
     "output_type": "execute_result"
    }
   ],
   "source": [
    "color_map = {'EPD': 'lightblue', 'CAHOOTS': 'salmon'}\n",
    "\n",
    "fig = px.bar(\n",
    "    priority_grouped, \n",
    "    x='Call_Priority', \n",
    "    y='Mean_Response', \n",
    "    color='RespondingUnitCallSign',\n",
    "    error_y='Std_Error',  \n",
    "    barmode='group',\n",
    "    color_discrete_map=color_map,\n",
    "    opacity=0.96,\n",
    "    labels={'Mean_Response': 'Average Response Time (Minutes)'}\n",
    ")\n",
    "fig.update_traces(error_y_color='white')\n",
    "# Customize layout\n",
    "fig.update_layout(\n",
    "    paper_bgcolor='rgba(0,0,0,0)', \n",
    "    plot_bgcolor='rgba(0,0,0,0)',\n",
    "    xaxis={'type': 'category'},\n",
    "    font=dict(color='white'),\n",
    "    yaxis_title='Average Response Time (Minutes)',\n",
    "    xaxis_title='Priority',  \n",
    "    legend_title='Responding Unit',\n",
    "    title=\"Average Response Time by Priority(±1 SD)\",\n",
    "    title_x=0.45,\n",
    "    yaxis_range = [0,17],\n",
    "    showlegend = True,\n",
    ")\n",
    "num_bars = len(fig.data[0].x)  \n",
    "\n",
    "\n",
    "for trace in fig.data:\n",
    "    trace.marker.color = [\n",
    "        'grey' if day in grey else color_map[trace.name]\n",
    "        for day in trace.x]\n",
    "\n",
    "\n",
    "fig.add_trace(go.Bar(\n",
    "     x=[None], y=[None],\n",
    "     name='CAHOOTS',\n",
    "     marker=dict(color='salmon'),\n",
    "     showlegend=True,\n",
    "     hoverinfo='skip'\n",
    "))\n",
    "fig.add_trace(go.Bar(\n",
    "     x=[None], y=[None],\n",
    "     name='EPD',\n",
    "     marker=dict(color='lightblue'),\n",
    "     showlegend=True,\n",
    "     hoverinfo='skip'\n",
    "))\n",
    "fig.write_image(\"../plots/Priority.png\")\n",
    "\n",
    "fig.show()\n",
    "\n",
    "priority_grouped"
   ]
  },
  {
   "cell_type": "markdown",
   "id": "6f99396a",
   "metadata": {},
   "source": [
    "## Day of Week"
   ]
  },
  {
   "cell_type": "code",
   "execution_count": 289,
   "id": "39a32734-0e19-4d30-bd03-046fe1881a9a",
   "metadata": {},
   "outputs": [
    {
     "data": {
      "application/vnd.plotly.v1+json": {
       "config": {
        "plotlyServerURL": "https://plot.ly"
       },
       "data": [
        {
         "alignmentgroup": "True",
         "error_y": {
          "array": {
           "bdata": "CqmGy+Nayz+8lbFp+2nOPxBJI8/Kisc/ZGTgI8Whzj8vlBvrovXRP+V+DfCaWdE/f10BPecRyT8=",
           "dtype": "f8"
          },
          "color": "white"
         },
         "hovertemplate": "RespondingUnitCallSign=CAHOOTS<br>Day_Of_Week=%{x}<br>Average Response Time (Minutes)=%{y}<extra></extra>",
         "legendgroup": "CAHOOTS",
         "marker": {
          "color": [
           "salmon",
           "salmon",
           "salmon",
           "salmon",
           "salmon",
           "salmon",
           "salmon"
          ],
          "opacity": 0.96,
          "pattern": {
           "shape": ""
          }
         },
         "name": "CAHOOTS",
         "offsetgroup": "CAHOOTS",
         "orientation": "v",
         "showlegend": true,
         "textposition": "auto",
         "type": "bar",
         "x": [
          "Friday",
          "Monday",
          "Saturday",
          "Sunday",
          "Thursday",
          "Tuseday",
          "Wednesday"
         ],
         "xaxis": "x",
         "y": {
          "bdata": "zCkrQfA/J0BCFqQHlEMpQMQhmHHXbiZAkOvQWsQ1KUDQQQ5Wg7koQEkVo1iNOSlA5C7H2Mh7KEA=",
          "dtype": "f8"
         },
         "yaxis": "y"
        },
        {
         "alignmentgroup": "True",
         "error_y": {
          "array": {
           "bdata": "kbcGhXkEtz+4BleocYGzP0Wpv9E+nck/aF1RvArcxz8DXaOs682xPzA1xiXa974/U9qYK6DRrj8=",
           "dtype": "f8"
          },
          "color": "white"
         },
         "hovertemplate": "RespondingUnitCallSign=EPD<br>Day_Of_Week=%{x}<br>Average Response Time (Minutes)=%{y}<extra></extra>",
         "legendgroup": "EPD",
         "marker": {
          "color": [
           "lightblue",
           "lightblue",
           "lightblue",
           "lightblue",
           "lightblue",
           "lightblue",
           "lightblue"
          ],
          "opacity": 0.96,
          "pattern": {
           "shape": ""
          }
         },
         "name": "EPD",
         "offsetgroup": "EPD",
         "orientation": "v",
         "showlegend": true,
         "textposition": "auto",
         "type": "bar",
         "x": [
          "Friday",
          "Monday",
          "Saturday",
          "Sunday",
          "Thursday",
          "Tuseday",
          "Wednesday"
         ],
         "xaxis": "x",
         "y": {
          "bdata": "Sc8kgEQTG0BUVP0WM/UcQEpQBBPAthxAznBjFwXgHUAz4TVDAi8cQES4B3H30h1A3xuSyvy8G0A=",
          "dtype": "f8"
         },
         "yaxis": "y"
        }
       ],
       "layout": {
        "barmode": "group",
        "font": {
         "color": "white"
        },
        "legend": {
         "title": {
          "text": "Responding Unit"
         },
         "tracegroupgap": 0
        },
        "margin": {
         "t": 60
        },
        "paper_bgcolor": "rgba(0,0,0,0)",
        "plot_bgcolor": "rgba(0,0,0,0)",
        "template": {
         "data": {
          "bar": [
           {
            "error_x": {
             "color": "#2a3f5f"
            },
            "error_y": {
             "color": "#2a3f5f"
            },
            "marker": {
             "line": {
              "color": "#E5ECF6",
              "width": 0.5
             },
             "pattern": {
              "fillmode": "overlay",
              "size": 10,
              "solidity": 0.2
             }
            },
            "type": "bar"
           }
          ],
          "barpolar": [
           {
            "marker": {
             "line": {
              "color": "#E5ECF6",
              "width": 0.5
             },
             "pattern": {
              "fillmode": "overlay",
              "size": 10,
              "solidity": 0.2
             }
            },
            "type": "barpolar"
           }
          ],
          "carpet": [
           {
            "aaxis": {
             "endlinecolor": "#2a3f5f",
             "gridcolor": "white",
             "linecolor": "white",
             "minorgridcolor": "white",
             "startlinecolor": "#2a3f5f"
            },
            "baxis": {
             "endlinecolor": "#2a3f5f",
             "gridcolor": "white",
             "linecolor": "white",
             "minorgridcolor": "white",
             "startlinecolor": "#2a3f5f"
            },
            "type": "carpet"
           }
          ],
          "choropleth": [
           {
            "colorbar": {
             "outlinewidth": 0,
             "ticks": ""
            },
            "type": "choropleth"
           }
          ],
          "contour": [
           {
            "colorbar": {
             "outlinewidth": 0,
             "ticks": ""
            },
            "colorscale": [
             [
              0,
              "#0d0887"
             ],
             [
              0.1111111111111111,
              "#46039f"
             ],
             [
              0.2222222222222222,
              "#7201a8"
             ],
             [
              0.3333333333333333,
              "#9c179e"
             ],
             [
              0.4444444444444444,
              "#bd3786"
             ],
             [
              0.5555555555555556,
              "#d8576b"
             ],
             [
              0.6666666666666666,
              "#ed7953"
             ],
             [
              0.7777777777777778,
              "#fb9f3a"
             ],
             [
              0.8888888888888888,
              "#fdca26"
             ],
             [
              1,
              "#f0f921"
             ]
            ],
            "type": "contour"
           }
          ],
          "contourcarpet": [
           {
            "colorbar": {
             "outlinewidth": 0,
             "ticks": ""
            },
            "type": "contourcarpet"
           }
          ],
          "heatmap": [
           {
            "colorbar": {
             "outlinewidth": 0,
             "ticks": ""
            },
            "colorscale": [
             [
              0,
              "#0d0887"
             ],
             [
              0.1111111111111111,
              "#46039f"
             ],
             [
              0.2222222222222222,
              "#7201a8"
             ],
             [
              0.3333333333333333,
              "#9c179e"
             ],
             [
              0.4444444444444444,
              "#bd3786"
             ],
             [
              0.5555555555555556,
              "#d8576b"
             ],
             [
              0.6666666666666666,
              "#ed7953"
             ],
             [
              0.7777777777777778,
              "#fb9f3a"
             ],
             [
              0.8888888888888888,
              "#fdca26"
             ],
             [
              1,
              "#f0f921"
             ]
            ],
            "type": "heatmap"
           }
          ],
          "histogram": [
           {
            "marker": {
             "pattern": {
              "fillmode": "overlay",
              "size": 10,
              "solidity": 0.2
             }
            },
            "type": "histogram"
           }
          ],
          "histogram2d": [
           {
            "colorbar": {
             "outlinewidth": 0,
             "ticks": ""
            },
            "colorscale": [
             [
              0,
              "#0d0887"
             ],
             [
              0.1111111111111111,
              "#46039f"
             ],
             [
              0.2222222222222222,
              "#7201a8"
             ],
             [
              0.3333333333333333,
              "#9c179e"
             ],
             [
              0.4444444444444444,
              "#bd3786"
             ],
             [
              0.5555555555555556,
              "#d8576b"
             ],
             [
              0.6666666666666666,
              "#ed7953"
             ],
             [
              0.7777777777777778,
              "#fb9f3a"
             ],
             [
              0.8888888888888888,
              "#fdca26"
             ],
             [
              1,
              "#f0f921"
             ]
            ],
            "type": "histogram2d"
           }
          ],
          "histogram2dcontour": [
           {
            "colorbar": {
             "outlinewidth": 0,
             "ticks": ""
            },
            "colorscale": [
             [
              0,
              "#0d0887"
             ],
             [
              0.1111111111111111,
              "#46039f"
             ],
             [
              0.2222222222222222,
              "#7201a8"
             ],
             [
              0.3333333333333333,
              "#9c179e"
             ],
             [
              0.4444444444444444,
              "#bd3786"
             ],
             [
              0.5555555555555556,
              "#d8576b"
             ],
             [
              0.6666666666666666,
              "#ed7953"
             ],
             [
              0.7777777777777778,
              "#fb9f3a"
             ],
             [
              0.8888888888888888,
              "#fdca26"
             ],
             [
              1,
              "#f0f921"
             ]
            ],
            "type": "histogram2dcontour"
           }
          ],
          "mesh3d": [
           {
            "colorbar": {
             "outlinewidth": 0,
             "ticks": ""
            },
            "type": "mesh3d"
           }
          ],
          "parcoords": [
           {
            "line": {
             "colorbar": {
              "outlinewidth": 0,
              "ticks": ""
             }
            },
            "type": "parcoords"
           }
          ],
          "pie": [
           {
            "automargin": true,
            "type": "pie"
           }
          ],
          "scatter": [
           {
            "fillpattern": {
             "fillmode": "overlay",
             "size": 10,
             "solidity": 0.2
            },
            "type": "scatter"
           }
          ],
          "scatter3d": [
           {
            "line": {
             "colorbar": {
              "outlinewidth": 0,
              "ticks": ""
             }
            },
            "marker": {
             "colorbar": {
              "outlinewidth": 0,
              "ticks": ""
             }
            },
            "type": "scatter3d"
           }
          ],
          "scattercarpet": [
           {
            "marker": {
             "colorbar": {
              "outlinewidth": 0,
              "ticks": ""
             }
            },
            "type": "scattercarpet"
           }
          ],
          "scattergeo": [
           {
            "marker": {
             "colorbar": {
              "outlinewidth": 0,
              "ticks": ""
             }
            },
            "type": "scattergeo"
           }
          ],
          "scattergl": [
           {
            "marker": {
             "colorbar": {
              "outlinewidth": 0,
              "ticks": ""
             }
            },
            "type": "scattergl"
           }
          ],
          "scattermap": [
           {
            "marker": {
             "colorbar": {
              "outlinewidth": 0,
              "ticks": ""
             }
            },
            "type": "scattermap"
           }
          ],
          "scattermapbox": [
           {
            "marker": {
             "colorbar": {
              "outlinewidth": 0,
              "ticks": ""
             }
            },
            "type": "scattermapbox"
           }
          ],
          "scatterpolar": [
           {
            "marker": {
             "colorbar": {
              "outlinewidth": 0,
              "ticks": ""
             }
            },
            "type": "scatterpolar"
           }
          ],
          "scatterpolargl": [
           {
            "marker": {
             "colorbar": {
              "outlinewidth": 0,
              "ticks": ""
             }
            },
            "type": "scatterpolargl"
           }
          ],
          "scatterternary": [
           {
            "marker": {
             "colorbar": {
              "outlinewidth": 0,
              "ticks": ""
             }
            },
            "type": "scatterternary"
           }
          ],
          "surface": [
           {
            "colorbar": {
             "outlinewidth": 0,
             "ticks": ""
            },
            "colorscale": [
             [
              0,
              "#0d0887"
             ],
             [
              0.1111111111111111,
              "#46039f"
             ],
             [
              0.2222222222222222,
              "#7201a8"
             ],
             [
              0.3333333333333333,
              "#9c179e"
             ],
             [
              0.4444444444444444,
              "#bd3786"
             ],
             [
              0.5555555555555556,
              "#d8576b"
             ],
             [
              0.6666666666666666,
              "#ed7953"
             ],
             [
              0.7777777777777778,
              "#fb9f3a"
             ],
             [
              0.8888888888888888,
              "#fdca26"
             ],
             [
              1,
              "#f0f921"
             ]
            ],
            "type": "surface"
           }
          ],
          "table": [
           {
            "cells": {
             "fill": {
              "color": "#EBF0F8"
             },
             "line": {
              "color": "white"
             }
            },
            "header": {
             "fill": {
              "color": "#C8D4E3"
             },
             "line": {
              "color": "white"
             }
            },
            "type": "table"
           }
          ]
         },
         "layout": {
          "annotationdefaults": {
           "arrowcolor": "#2a3f5f",
           "arrowhead": 0,
           "arrowwidth": 1
          },
          "autotypenumbers": "strict",
          "coloraxis": {
           "colorbar": {
            "outlinewidth": 0,
            "ticks": ""
           }
          },
          "colorscale": {
           "diverging": [
            [
             0,
             "#8e0152"
            ],
            [
             0.1,
             "#c51b7d"
            ],
            [
             0.2,
             "#de77ae"
            ],
            [
             0.3,
             "#f1b6da"
            ],
            [
             0.4,
             "#fde0ef"
            ],
            [
             0.5,
             "#f7f7f7"
            ],
            [
             0.6,
             "#e6f5d0"
            ],
            [
             0.7,
             "#b8e186"
            ],
            [
             0.8,
             "#7fbc41"
            ],
            [
             0.9,
             "#4d9221"
            ],
            [
             1,
             "#276419"
            ]
           ],
           "sequential": [
            [
             0,
             "#0d0887"
            ],
            [
             0.1111111111111111,
             "#46039f"
            ],
            [
             0.2222222222222222,
             "#7201a8"
            ],
            [
             0.3333333333333333,
             "#9c179e"
            ],
            [
             0.4444444444444444,
             "#bd3786"
            ],
            [
             0.5555555555555556,
             "#d8576b"
            ],
            [
             0.6666666666666666,
             "#ed7953"
            ],
            [
             0.7777777777777778,
             "#fb9f3a"
            ],
            [
             0.8888888888888888,
             "#fdca26"
            ],
            [
             1,
             "#f0f921"
            ]
           ],
           "sequentialminus": [
            [
             0,
             "#0d0887"
            ],
            [
             0.1111111111111111,
             "#46039f"
            ],
            [
             0.2222222222222222,
             "#7201a8"
            ],
            [
             0.3333333333333333,
             "#9c179e"
            ],
            [
             0.4444444444444444,
             "#bd3786"
            ],
            [
             0.5555555555555556,
             "#d8576b"
            ],
            [
             0.6666666666666666,
             "#ed7953"
            ],
            [
             0.7777777777777778,
             "#fb9f3a"
            ],
            [
             0.8888888888888888,
             "#fdca26"
            ],
            [
             1,
             "#f0f921"
            ]
           ]
          },
          "colorway": [
           "#636efa",
           "#EF553B",
           "#00cc96",
           "#ab63fa",
           "#FFA15A",
           "#19d3f3",
           "#FF6692",
           "#B6E880",
           "#FF97FF",
           "#FECB52"
          ],
          "font": {
           "color": "#2a3f5f"
          },
          "geo": {
           "bgcolor": "white",
           "lakecolor": "white",
           "landcolor": "#E5ECF6",
           "showlakes": true,
           "showland": true,
           "subunitcolor": "white"
          },
          "hoverlabel": {
           "align": "left"
          },
          "hovermode": "closest",
          "mapbox": {
           "style": "light"
          },
          "paper_bgcolor": "white",
          "plot_bgcolor": "#E5ECF6",
          "polar": {
           "angularaxis": {
            "gridcolor": "white",
            "linecolor": "white",
            "ticks": ""
           },
           "bgcolor": "#E5ECF6",
           "radialaxis": {
            "gridcolor": "white",
            "linecolor": "white",
            "ticks": ""
           }
          },
          "scene": {
           "xaxis": {
            "backgroundcolor": "#E5ECF6",
            "gridcolor": "white",
            "gridwidth": 2,
            "linecolor": "white",
            "showbackground": true,
            "ticks": "",
            "zerolinecolor": "white"
           },
           "yaxis": {
            "backgroundcolor": "#E5ECF6",
            "gridcolor": "white",
            "gridwidth": 2,
            "linecolor": "white",
            "showbackground": true,
            "ticks": "",
            "zerolinecolor": "white"
           },
           "zaxis": {
            "backgroundcolor": "#E5ECF6",
            "gridcolor": "white",
            "gridwidth": 2,
            "linecolor": "white",
            "showbackground": true,
            "ticks": "",
            "zerolinecolor": "white"
           }
          },
          "shapedefaults": {
           "line": {
            "color": "#2a3f5f"
           }
          },
          "ternary": {
           "aaxis": {
            "gridcolor": "white",
            "linecolor": "white",
            "ticks": ""
           },
           "baxis": {
            "gridcolor": "white",
            "linecolor": "white",
            "ticks": ""
           },
           "bgcolor": "#E5ECF6",
           "caxis": {
            "gridcolor": "white",
            "linecolor": "white",
            "ticks": ""
           }
          },
          "title": {
           "x": 0.05
          },
          "xaxis": {
           "automargin": true,
           "gridcolor": "white",
           "linecolor": "white",
           "ticks": "",
           "title": {
            "standoff": 15
           },
           "zerolinecolor": "white",
           "zerolinewidth": 2
          },
          "yaxis": {
           "automargin": true,
           "gridcolor": "white",
           "linecolor": "white",
           "ticks": "",
           "title": {
            "standoff": 15
           },
           "zerolinecolor": "white",
           "zerolinewidth": 2
          }
         }
        },
        "title": {
         "text": "Average Response Time by Day of Week (±1 SD)",
         "x": 0.45
        },
        "xaxis": {
         "anchor": "y",
         "categoryarray": [
          "Sunday",
          "Monday",
          "Tuseday",
          "Wednesday",
          "Thursday",
          "Friday",
          "Saturday"
         ],
         "categoryorder": "array",
         "domain": [
          0,
          1
         ],
         "title": {
          "text": "Day of Week"
         },
         "type": "category"
        },
        "yaxis": {
         "anchor": "x",
         "domain": [
          0,
          1
         ],
         "title": {
          "text": "Average Response Time (Minutes)"
         }
        }
       }
      }
     },
     "metadata": {},
     "output_type": "display_data"
    }
   ],
   "source": [
    "color_map = {'EPD': 'lightblue', 'CAHOOTS': 'salmon'}\n",
    "\n",
    "fig = px.bar(\n",
    "    dow_grouped, \n",
    "    x='Day_Of_Week', \n",
    "    y='Mean_Response', \n",
    "    color='RespondingUnitCallSign',\n",
    "    error_y='Std_Error',  \n",
    "    barmode='group',\n",
    "    category_orders = {\n",
    "        \"Day_Of_Week\": [\"Sunday\", \"Monday\", \"Tuseday\", \"Wednesday\", \"Thursday\", \"Friday\", \"Saturday\"],  \n",
    "        \"RespondingUnitCallSign\": [\"CAHOOTS\", \"EPD\"]   \n",
    "        }, \n",
    "    color_discrete_map=color_map,\n",
    "    opacity=0.96,\n",
    "    labels={'Mean_Response': 'Average Response Time (Minutes)'}\n",
    ")\n",
    "fig.update_traces(error_y_color='white')\n",
    "\n",
    "fig.update_layout(\n",
    "    paper_bgcolor='rgba(0,0,0,0)', \n",
    "    plot_bgcolor='rgba(0,0,0,0)',\n",
    "    xaxis={'type': 'category'},\n",
    "    font=dict(color='white'),\n",
    "    yaxis_title='Average Response Time (Minutes)',\n",
    "    xaxis_title='Day of Week',  \n",
    "    legend_title='Responding Unit',\n",
    "    title=\"Average Response Time by Day of Week (±1 SD)\",\n",
    "    title_x=0.45,\n",
    ")\n",
    "fig.for_each_trace(\n",
    "    lambda trace: trace.update(marker_color='grey') \n",
    "    if trace.x[0] in grey  \n",
    "    else ()\n",
    ")\n",
    "for trace in fig.data:\n",
    "    trace.marker.color = [\n",
    "        'grey' if day in grey else color_map[trace.name]\n",
    "        for day in trace.x]\n",
    "\n",
    "fig.write_image(\"../plots/DOW.png\")\n",
    "\n",
    "fig.show()"
   ]
  },
  {
   "cell_type": "markdown",
   "id": "830fd92d-2373-47e3-8c38-0bfd6919651e",
   "metadata": {},
   "source": [
    "## Time of Day"
   ]
  },
  {
   "cell_type": "code",
   "execution_count": null,
   "id": "26e746fe-d917-4dde-b6aa-7f1285849fce",
   "metadata": {},
   "outputs": [
    {
     "data": {
      "application/vnd.plotly.v1+json": {
       "config": {
        "plotlyServerURL": "https://plot.ly"
       },
       "data": [
        {
         "alignmentgroup": "True",
         "error_y": {
          "array": {
           "bdata": "mUVp2qWayj9PQ+0clAnHP9DcCpA6YMM/E+8/ixe3xD8=",
           "dtype": "f8"
          },
          "color": "white"
         },
         "hovertemplate": "RespondingUnitCallSign=CAHOOTS<br>Time_Of_Day=%{x}<br>Average Response Time (Minutes)=%{y}<extra></extra>",
         "legendgroup": "CAHOOTS",
         "marker": {
          "color": [
           "salmon",
           "salmon",
           "salmon",
           "salmon"
          ],
          "opacity": 0.96,
          "pattern": {
           "shape": ""
          }
         },
         "name": "CAHOOTS",
         "offsetgroup": "CAHOOTS",
         "orientation": "v",
         "showlegend": true,
         "textposition": "auto",
         "type": "bar",
         "x": [
          "Afternoon",
          "Evening",
          "Morning",
          "Night"
         ],
         "xaxis": "x",
         "y": {
          "bdata": "X9ZE46KVLEB7ytu1EE0oQKRrctbZiyhAb9W1yW7fJUA=",
          "dtype": "f8"
         },
         "yaxis": "y"
        },
        {
         "alignmentgroup": "True",
         "error_y": {
          "array": {
           "bdata": "bbf5RIzGvD9jQPsmMHvGP9EMRoLqgLQ/YFFCJHy8oz8=",
           "dtype": "f8"
          },
          "color": "white"
         },
         "hovertemplate": "RespondingUnitCallSign=EPD<br>Time_Of_Day=%{x}<br>Average Response Time (Minutes)=%{y}<extra></extra>",
         "legendgroup": "EPD",
         "marker": {
          "color": [
           "lightblue",
           "lightblue",
           "lightblue",
           "lightblue"
          ],
          "opacity": 0.96,
          "pattern": {
           "shape": ""
          }
         },
         "name": "EPD",
         "offsetgroup": "EPD",
         "orientation": "v",
         "showlegend": true,
         "textposition": "auto",
         "type": "bar",
         "x": [
          "Afternoon",
          "Evening",
          "Morning",
          "Night"
         ],
         "xaxis": "x",
         "y": {
          "bdata": "nFxm/Rs8H0DvJfHgCEsfQO9a4hJsMR5AGm+lZjexGEA=",
          "dtype": "f8"
         },
         "yaxis": "y"
        }
       ],
       "layout": {
        "barmode": "group",
        "font": {
         "color": "white"
        },
        "legend": {
         "title": {
          "text": "RespondingUnitCallSign"
         },
         "tracegroupgap": 0
        },
        "margin": {
         "t": 60
        },
        "paper_bgcolor": "rgba(0,0,0,0)",
        "plot_bgcolor": "rgba(0,0,0,0)",
        "template": {
         "data": {
          "bar": [
           {
            "error_x": {
             "color": "#2a3f5f"
            },
            "error_y": {
             "color": "#2a3f5f"
            },
            "marker": {
             "line": {
              "color": "#E5ECF6",
              "width": 0.5
             },
             "pattern": {
              "fillmode": "overlay",
              "size": 10,
              "solidity": 0.2
             }
            },
            "type": "bar"
           }
          ],
          "barpolar": [
           {
            "marker": {
             "line": {
              "color": "#E5ECF6",
              "width": 0.5
             },
             "pattern": {
              "fillmode": "overlay",
              "size": 10,
              "solidity": 0.2
             }
            },
            "type": "barpolar"
           }
          ],
          "carpet": [
           {
            "aaxis": {
             "endlinecolor": "#2a3f5f",
             "gridcolor": "white",
             "linecolor": "white",
             "minorgridcolor": "white",
             "startlinecolor": "#2a3f5f"
            },
            "baxis": {
             "endlinecolor": "#2a3f5f",
             "gridcolor": "white",
             "linecolor": "white",
             "minorgridcolor": "white",
             "startlinecolor": "#2a3f5f"
            },
            "type": "carpet"
           }
          ],
          "choropleth": [
           {
            "colorbar": {
             "outlinewidth": 0,
             "ticks": ""
            },
            "type": "choropleth"
           }
          ],
          "contour": [
           {
            "colorbar": {
             "outlinewidth": 0,
             "ticks": ""
            },
            "colorscale": [
             [
              0,
              "#0d0887"
             ],
             [
              0.1111111111111111,
              "#46039f"
             ],
             [
              0.2222222222222222,
              "#7201a8"
             ],
             [
              0.3333333333333333,
              "#9c179e"
             ],
             [
              0.4444444444444444,
              "#bd3786"
             ],
             [
              0.5555555555555556,
              "#d8576b"
             ],
             [
              0.6666666666666666,
              "#ed7953"
             ],
             [
              0.7777777777777778,
              "#fb9f3a"
             ],
             [
              0.8888888888888888,
              "#fdca26"
             ],
             [
              1,
              "#f0f921"
             ]
            ],
            "type": "contour"
           }
          ],
          "contourcarpet": [
           {
            "colorbar": {
             "outlinewidth": 0,
             "ticks": ""
            },
            "type": "contourcarpet"
           }
          ],
          "heatmap": [
           {
            "colorbar": {
             "outlinewidth": 0,
             "ticks": ""
            },
            "colorscale": [
             [
              0,
              "#0d0887"
             ],
             [
              0.1111111111111111,
              "#46039f"
             ],
             [
              0.2222222222222222,
              "#7201a8"
             ],
             [
              0.3333333333333333,
              "#9c179e"
             ],
             [
              0.4444444444444444,
              "#bd3786"
             ],
             [
              0.5555555555555556,
              "#d8576b"
             ],
             [
              0.6666666666666666,
              "#ed7953"
             ],
             [
              0.7777777777777778,
              "#fb9f3a"
             ],
             [
              0.8888888888888888,
              "#fdca26"
             ],
             [
              1,
              "#f0f921"
             ]
            ],
            "type": "heatmap"
           }
          ],
          "histogram": [
           {
            "marker": {
             "pattern": {
              "fillmode": "overlay",
              "size": 10,
              "solidity": 0.2
             }
            },
            "type": "histogram"
           }
          ],
          "histogram2d": [
           {
            "colorbar": {
             "outlinewidth": 0,
             "ticks": ""
            },
            "colorscale": [
             [
              0,
              "#0d0887"
             ],
             [
              0.1111111111111111,
              "#46039f"
             ],
             [
              0.2222222222222222,
              "#7201a8"
             ],
             [
              0.3333333333333333,
              "#9c179e"
             ],
             [
              0.4444444444444444,
              "#bd3786"
             ],
             [
              0.5555555555555556,
              "#d8576b"
             ],
             [
              0.6666666666666666,
              "#ed7953"
             ],
             [
              0.7777777777777778,
              "#fb9f3a"
             ],
             [
              0.8888888888888888,
              "#fdca26"
             ],
             [
              1,
              "#f0f921"
             ]
            ],
            "type": "histogram2d"
           }
          ],
          "histogram2dcontour": [
           {
            "colorbar": {
             "outlinewidth": 0,
             "ticks": ""
            },
            "colorscale": [
             [
              0,
              "#0d0887"
             ],
             [
              0.1111111111111111,
              "#46039f"
             ],
             [
              0.2222222222222222,
              "#7201a8"
             ],
             [
              0.3333333333333333,
              "#9c179e"
             ],
             [
              0.4444444444444444,
              "#bd3786"
             ],
             [
              0.5555555555555556,
              "#d8576b"
             ],
             [
              0.6666666666666666,
              "#ed7953"
             ],
             [
              0.7777777777777778,
              "#fb9f3a"
             ],
             [
              0.8888888888888888,
              "#fdca26"
             ],
             [
              1,
              "#f0f921"
             ]
            ],
            "type": "histogram2dcontour"
           }
          ],
          "mesh3d": [
           {
            "colorbar": {
             "outlinewidth": 0,
             "ticks": ""
            },
            "type": "mesh3d"
           }
          ],
          "parcoords": [
           {
            "line": {
             "colorbar": {
              "outlinewidth": 0,
              "ticks": ""
             }
            },
            "type": "parcoords"
           }
          ],
          "pie": [
           {
            "automargin": true,
            "type": "pie"
           }
          ],
          "scatter": [
           {
            "fillpattern": {
             "fillmode": "overlay",
             "size": 10,
             "solidity": 0.2
            },
            "type": "scatter"
           }
          ],
          "scatter3d": [
           {
            "line": {
             "colorbar": {
              "outlinewidth": 0,
              "ticks": ""
             }
            },
            "marker": {
             "colorbar": {
              "outlinewidth": 0,
              "ticks": ""
             }
            },
            "type": "scatter3d"
           }
          ],
          "scattercarpet": [
           {
            "marker": {
             "colorbar": {
              "outlinewidth": 0,
              "ticks": ""
             }
            },
            "type": "scattercarpet"
           }
          ],
          "scattergeo": [
           {
            "marker": {
             "colorbar": {
              "outlinewidth": 0,
              "ticks": ""
             }
            },
            "type": "scattergeo"
           }
          ],
          "scattergl": [
           {
            "marker": {
             "colorbar": {
              "outlinewidth": 0,
              "ticks": ""
             }
            },
            "type": "scattergl"
           }
          ],
          "scattermap": [
           {
            "marker": {
             "colorbar": {
              "outlinewidth": 0,
              "ticks": ""
             }
            },
            "type": "scattermap"
           }
          ],
          "scattermapbox": [
           {
            "marker": {
             "colorbar": {
              "outlinewidth": 0,
              "ticks": ""
             }
            },
            "type": "scattermapbox"
           }
          ],
          "scatterpolar": [
           {
            "marker": {
             "colorbar": {
              "outlinewidth": 0,
              "ticks": ""
             }
            },
            "type": "scatterpolar"
           }
          ],
          "scatterpolargl": [
           {
            "marker": {
             "colorbar": {
              "outlinewidth": 0,
              "ticks": ""
             }
            },
            "type": "scatterpolargl"
           }
          ],
          "scatterternary": [
           {
            "marker": {
             "colorbar": {
              "outlinewidth": 0,
              "ticks": ""
             }
            },
            "type": "scatterternary"
           }
          ],
          "surface": [
           {
            "colorbar": {
             "outlinewidth": 0,
             "ticks": ""
            },
            "colorscale": [
             [
              0,
              "#0d0887"
             ],
             [
              0.1111111111111111,
              "#46039f"
             ],
             [
              0.2222222222222222,
              "#7201a8"
             ],
             [
              0.3333333333333333,
              "#9c179e"
             ],
             [
              0.4444444444444444,
              "#bd3786"
             ],
             [
              0.5555555555555556,
              "#d8576b"
             ],
             [
              0.6666666666666666,
              "#ed7953"
             ],
             [
              0.7777777777777778,
              "#fb9f3a"
             ],
             [
              0.8888888888888888,
              "#fdca26"
             ],
             [
              1,
              "#f0f921"
             ]
            ],
            "type": "surface"
           }
          ],
          "table": [
           {
            "cells": {
             "fill": {
              "color": "#EBF0F8"
             },
             "line": {
              "color": "white"
             }
            },
            "header": {
             "fill": {
              "color": "#C8D4E3"
             },
             "line": {
              "color": "white"
             }
            },
            "type": "table"
           }
          ]
         },
         "layout": {
          "annotationdefaults": {
           "arrowcolor": "#2a3f5f",
           "arrowhead": 0,
           "arrowwidth": 1
          },
          "autotypenumbers": "strict",
          "coloraxis": {
           "colorbar": {
            "outlinewidth": 0,
            "ticks": ""
           }
          },
          "colorscale": {
           "diverging": [
            [
             0,
             "#8e0152"
            ],
            [
             0.1,
             "#c51b7d"
            ],
            [
             0.2,
             "#de77ae"
            ],
            [
             0.3,
             "#f1b6da"
            ],
            [
             0.4,
             "#fde0ef"
            ],
            [
             0.5,
             "#f7f7f7"
            ],
            [
             0.6,
             "#e6f5d0"
            ],
            [
             0.7,
             "#b8e186"
            ],
            [
             0.8,
             "#7fbc41"
            ],
            [
             0.9,
             "#4d9221"
            ],
            [
             1,
             "#276419"
            ]
           ],
           "sequential": [
            [
             0,
             "#0d0887"
            ],
            [
             0.1111111111111111,
             "#46039f"
            ],
            [
             0.2222222222222222,
             "#7201a8"
            ],
            [
             0.3333333333333333,
             "#9c179e"
            ],
            [
             0.4444444444444444,
             "#bd3786"
            ],
            [
             0.5555555555555556,
             "#d8576b"
            ],
            [
             0.6666666666666666,
             "#ed7953"
            ],
            [
             0.7777777777777778,
             "#fb9f3a"
            ],
            [
             0.8888888888888888,
             "#fdca26"
            ],
            [
             1,
             "#f0f921"
            ]
           ],
           "sequentialminus": [
            [
             0,
             "#0d0887"
            ],
            [
             0.1111111111111111,
             "#46039f"
            ],
            [
             0.2222222222222222,
             "#7201a8"
            ],
            [
             0.3333333333333333,
             "#9c179e"
            ],
            [
             0.4444444444444444,
             "#bd3786"
            ],
            [
             0.5555555555555556,
             "#d8576b"
            ],
            [
             0.6666666666666666,
             "#ed7953"
            ],
            [
             0.7777777777777778,
             "#fb9f3a"
            ],
            [
             0.8888888888888888,
             "#fdca26"
            ],
            [
             1,
             "#f0f921"
            ]
           ]
          },
          "colorway": [
           "#636efa",
           "#EF553B",
           "#00cc96",
           "#ab63fa",
           "#FFA15A",
           "#19d3f3",
           "#FF6692",
           "#B6E880",
           "#FF97FF",
           "#FECB52"
          ],
          "font": {
           "color": "#2a3f5f"
          },
          "geo": {
           "bgcolor": "white",
           "lakecolor": "white",
           "landcolor": "#E5ECF6",
           "showlakes": true,
           "showland": true,
           "subunitcolor": "white"
          },
          "hoverlabel": {
           "align": "left"
          },
          "hovermode": "closest",
          "mapbox": {
           "style": "light"
          },
          "paper_bgcolor": "white",
          "plot_bgcolor": "#E5ECF6",
          "polar": {
           "angularaxis": {
            "gridcolor": "white",
            "linecolor": "white",
            "ticks": ""
           },
           "bgcolor": "#E5ECF6",
           "radialaxis": {
            "gridcolor": "white",
            "linecolor": "white",
            "ticks": ""
           }
          },
          "scene": {
           "xaxis": {
            "backgroundcolor": "#E5ECF6",
            "gridcolor": "white",
            "gridwidth": 2,
            "linecolor": "white",
            "showbackground": true,
            "ticks": "",
            "zerolinecolor": "white"
           },
           "yaxis": {
            "backgroundcolor": "#E5ECF6",
            "gridcolor": "white",
            "gridwidth": 2,
            "linecolor": "white",
            "showbackground": true,
            "ticks": "",
            "zerolinecolor": "white"
           },
           "zaxis": {
            "backgroundcolor": "#E5ECF6",
            "gridcolor": "white",
            "gridwidth": 2,
            "linecolor": "white",
            "showbackground": true,
            "ticks": "",
            "zerolinecolor": "white"
           }
          },
          "shapedefaults": {
           "line": {
            "color": "#2a3f5f"
           }
          },
          "ternary": {
           "aaxis": {
            "gridcolor": "white",
            "linecolor": "white",
            "ticks": ""
           },
           "baxis": {
            "gridcolor": "white",
            "linecolor": "white",
            "ticks": ""
           },
           "bgcolor": "#E5ECF6",
           "caxis": {
            "gridcolor": "white",
            "linecolor": "white",
            "ticks": ""
           }
          },
          "title": {
           "x": 0.05
          },
          "xaxis": {
           "automargin": true,
           "gridcolor": "white",
           "linecolor": "white",
           "ticks": "",
           "title": {
            "standoff": 15
           },
           "zerolinecolor": "white",
           "zerolinewidth": 2
          },
          "yaxis": {
           "automargin": true,
           "gridcolor": "white",
           "linecolor": "white",
           "ticks": "",
           "title": {
            "standoff": 15
           },
           "zerolinecolor": "white",
           "zerolinewidth": 2
          }
         }
        },
        "title": {
         "text": "Average Response Time by Time of Day (±1 SD)",
         "x": 0.45
        },
        "xaxis": {
         "anchor": "y",
         "categoryarray": [
          "Morning",
          "Afternoon",
          "Evening",
          "Night"
         ],
         "categoryorder": "array",
         "domain": [
          0,
          1
         ],
         "title": {
          "text": "Time of Day"
         },
         "type": "category"
        },
        "yaxis": {
         "anchor": "x",
         "domain": [
          0,
          1
         ],
         "title": {
          "text": "Average Response Time (Minutes)"
         }
        }
       }
      }
     },
     "metadata": {},
     "output_type": "display_data"
    }
   ],
   "source": [
    "color_map = {'EPD': 'lightblue', 'CAHOOTS': 'salmon'}\n",
    "\n",
    "fig = px.bar(\n",
    "    tod_grouped, \n",
    "    x='Time_Of_Day', \n",
    "    y='Mean_Response', \n",
    "    color='RespondingUnitCallSign',\n",
    "    error_y='Std_Error',  \n",
    "    barmode='group',\n",
    "    color_discrete_map=color_map,\n",
    "    opacity=0.96,\n",
    "    labels={'Mean_Response': 'Average Response Time (Minutes)'}\n",
    ")\n",
    "fig.update_traces(error_y_color='white')\n",
    "# Customize layout\n",
    "fig.update_layout(\n",
    "    paper_bgcolor='rgba(0,0,0,0)', \n",
    "    plot_bgcolor='rgba(0,0,0,0)',\n",
    "    xaxis={'type': 'category'},\n",
    "    font=dict(color='white'),\n",
    "    yaxis_title='Average Response Time (Minutes)',\n",
    "    xaxis_title='Time of Day',  \n",
    "\n",
    "    title=\"Average Response Time by Time of Day (±1 SD)\",\n",
    "    title_x=0.45\n",
    ")\n",
    "fig.update_xaxes(categoryorder=\"array\", \n",
    "                categoryarray=[\"Morning\", \"Afternoon\", \"Evening\", \"Night\"])\n",
    "for trace in fig.data:\n",
    "    trace.marker.color = [\n",
    "        'grey' if day in grey else color_map[trace.name]\n",
    "        for day in trace.x]\n",
    "\n",
    "fig.write_image(\"../plots/TOD.png\")\n",
    "\n",
    "fig.show()"
   ]
  },
  {
   "cell_type": "markdown",
   "id": "a47ca46a-8668-47d4-bb16-5c9d58a2054b",
   "metadata": {},
   "source": [
    "## Call Type"
   ]
  },
  {
   "cell_type": "code",
   "execution_count": 266,
   "id": "957fd2cb-578f-4c1e-95e9-7329b98a4134",
   "metadata": {},
   "outputs": [
    {
     "data": {
      "application/vnd.plotly.v1+json": {
       "config": {
        "plotlyServerURL": "https://plot.ly"
       },
       "data": [
        {
         "alignmentgroup": "True",
         "error_y": {
          "array": {
           "bdata": "ZqoadvEI9z8bIY48GhLbP9TSNw/GGtA/ccVSXpGOwT8lLpO913HlP6uLDKM5g8o/p9u1lkdRxz/amTq/bVrdP266Ss70bNs/ljPU6CJM0D+3dafS2lHzPw==",
           "dtype": "f8"
          },
          "color": "white"
         },
         "hovertemplate": "RespondingUnitCallSign=CAHOOTS<br>IncidentCategory=%{x}<br>Average Response Time (Minutes)=%{y}<extra></extra>",
         "legendgroup": "CAHOOTS",
         "marker": {
          "color": [
           "grey",
           "salmon",
           "salmon",
           "salmon",
           "salmon",
           "salmon",
           "salmon",
           "salmon",
           "grey",
           "salmon",
           "grey"
          ],
          "opacity": 0.96,
          "pattern": {
           "shape": ""
          }
         },
         "name": "CAHOOTS",
         "offsetgroup": "CAHOOTS",
         "orientation": "v",
         "showlegend": true,
         "textposition": "auto",
         "type": "bar",
         "x": [
          "Abuse & Welfare",
          "Animal-related",
          "Disorder & Public Safety",
          "Mental Health & Medical",
          "Miscellaneous",
          "Other / Unclassified",
          "Public Assistance",
          "Suspicious / Investigative",
          "Theft & Property",
          "Traffic & Vehicle",
          "Violent Crime"
         ],
         "xaxis": "x",
         "y": {
          "bdata": "KvJZN5giKkDjdk6f/UAlQFVVVVXVfyhAkMR+dTMwKUAAAAAAAAAmQOtb8qBFSidAK3vJaCnMKEDTTWIQWLkmQOPlpgy3aCVA52v17BC4IUAVQ/3liBQqQA==",
          "dtype": "f8"
         },
         "yaxis": "y"
        },
        {
         "alignmentgroup": "True",
         "error_y": {
          "array": {
           "bdata": "h7aRLd+k0j9gM0wj/OXCP72xk1XvOqk/cn9x3Yxr3T+D2deY04PEP49BL1HlGLM/ysmQ6w/8rz/Trxq8Vqy3P9atBcERz7Y/9JVy3W7AqT/Ah1I+9HDJPw==",
           "dtype": "f8"
          },
          "color": "white"
         },
         "hovertemplate": "RespondingUnitCallSign=EPD<br>IncidentCategory=%{x}<br>Average Response Time (Minutes)=%{y}<extra></extra>",
         "legendgroup": "EPD",
         "marker": {
          "color": [
           "grey",
           "lightblue",
           "lightblue",
           "lightblue",
           "lightblue",
           "lightblue",
           "lightblue",
           "lightblue",
           "grey",
           "lightblue",
           "grey"
          ],
          "opacity": 0.96,
          "pattern": {
           "shape": ""
          }
         },
         "name": "EPD",
         "offsetgroup": "EPD",
         "orientation": "v",
         "showlegend": true,
         "textposition": "auto",
         "type": "bar",
         "x": [
          "Abuse & Welfare",
          "Animal-related",
          "Disorder & Public Safety",
          "Mental Health & Medical",
          "Miscellaneous",
          "Other / Unclassified",
          "Public Assistance",
          "Suspicious / Investigative",
          "Theft & Property",
          "Traffic & Vehicle",
          "Violent Crime"
         ],
         "xaxis": "x",
         "y": {
          "bdata": "Ct9Hg3O5K0CkEX/fv7UnQHRpn6WhhyBAcmaQCFwjIUCI61MOkk8gQFCeK6/mCRVALrllAbz0EEDTbRVosA8fQCJs/NytRyNAaztw29NjFEAvreglXq4lQA==",
          "dtype": "f8"
         },
         "yaxis": "y"
        },
        {
         "hoverinfo": "skip",
         "marker": {
          "color": "salmon"
         },
         "name": "CAHOOTS",
         "showlegend": true,
         "type": "bar",
         "x": [
          null
         ],
         "y": [
          null
         ]
        },
        {
         "hoverinfo": "skip",
         "marker": {
          "color": "lightblue"
         },
         "name": "EPD",
         "showlegend": true,
         "type": "bar",
         "x": [
          null
         ],
         "y": [
          null
         ]
        }
       ],
       "layout": {
        "barmode": "group",
        "font": {
         "color": "white"
        },
        "legend": {
         "title": {
          "text": "Responding Unit"
         },
         "tracegroupgap": 0
        },
        "margin": {
         "t": 60
        },
        "paper_bgcolor": "rgba(0,0,0,0)",
        "plot_bgcolor": "rgba(0,0,0,0)",
        "template": {
         "data": {
          "bar": [
           {
            "error_x": {
             "color": "#2a3f5f"
            },
            "error_y": {
             "color": "#2a3f5f"
            },
            "marker": {
             "line": {
              "color": "#E5ECF6",
              "width": 0.5
             },
             "pattern": {
              "fillmode": "overlay",
              "size": 10,
              "solidity": 0.2
             }
            },
            "type": "bar"
           }
          ],
          "barpolar": [
           {
            "marker": {
             "line": {
              "color": "#E5ECF6",
              "width": 0.5
             },
             "pattern": {
              "fillmode": "overlay",
              "size": 10,
              "solidity": 0.2
             }
            },
            "type": "barpolar"
           }
          ],
          "carpet": [
           {
            "aaxis": {
             "endlinecolor": "#2a3f5f",
             "gridcolor": "white",
             "linecolor": "white",
             "minorgridcolor": "white",
             "startlinecolor": "#2a3f5f"
            },
            "baxis": {
             "endlinecolor": "#2a3f5f",
             "gridcolor": "white",
             "linecolor": "white",
             "minorgridcolor": "white",
             "startlinecolor": "#2a3f5f"
            },
            "type": "carpet"
           }
          ],
          "choropleth": [
           {
            "colorbar": {
             "outlinewidth": 0,
             "ticks": ""
            },
            "type": "choropleth"
           }
          ],
          "contour": [
           {
            "colorbar": {
             "outlinewidth": 0,
             "ticks": ""
            },
            "colorscale": [
             [
              0,
              "#0d0887"
             ],
             [
              0.1111111111111111,
              "#46039f"
             ],
             [
              0.2222222222222222,
              "#7201a8"
             ],
             [
              0.3333333333333333,
              "#9c179e"
             ],
             [
              0.4444444444444444,
              "#bd3786"
             ],
             [
              0.5555555555555556,
              "#d8576b"
             ],
             [
              0.6666666666666666,
              "#ed7953"
             ],
             [
              0.7777777777777778,
              "#fb9f3a"
             ],
             [
              0.8888888888888888,
              "#fdca26"
             ],
             [
              1,
              "#f0f921"
             ]
            ],
            "type": "contour"
           }
          ],
          "contourcarpet": [
           {
            "colorbar": {
             "outlinewidth": 0,
             "ticks": ""
            },
            "type": "contourcarpet"
           }
          ],
          "heatmap": [
           {
            "colorbar": {
             "outlinewidth": 0,
             "ticks": ""
            },
            "colorscale": [
             [
              0,
              "#0d0887"
             ],
             [
              0.1111111111111111,
              "#46039f"
             ],
             [
              0.2222222222222222,
              "#7201a8"
             ],
             [
              0.3333333333333333,
              "#9c179e"
             ],
             [
              0.4444444444444444,
              "#bd3786"
             ],
             [
              0.5555555555555556,
              "#d8576b"
             ],
             [
              0.6666666666666666,
              "#ed7953"
             ],
             [
              0.7777777777777778,
              "#fb9f3a"
             ],
             [
              0.8888888888888888,
              "#fdca26"
             ],
             [
              1,
              "#f0f921"
             ]
            ],
            "type": "heatmap"
           }
          ],
          "histogram": [
           {
            "marker": {
             "pattern": {
              "fillmode": "overlay",
              "size": 10,
              "solidity": 0.2
             }
            },
            "type": "histogram"
           }
          ],
          "histogram2d": [
           {
            "colorbar": {
             "outlinewidth": 0,
             "ticks": ""
            },
            "colorscale": [
             [
              0,
              "#0d0887"
             ],
             [
              0.1111111111111111,
              "#46039f"
             ],
             [
              0.2222222222222222,
              "#7201a8"
             ],
             [
              0.3333333333333333,
              "#9c179e"
             ],
             [
              0.4444444444444444,
              "#bd3786"
             ],
             [
              0.5555555555555556,
              "#d8576b"
             ],
             [
              0.6666666666666666,
              "#ed7953"
             ],
             [
              0.7777777777777778,
              "#fb9f3a"
             ],
             [
              0.8888888888888888,
              "#fdca26"
             ],
             [
              1,
              "#f0f921"
             ]
            ],
            "type": "histogram2d"
           }
          ],
          "histogram2dcontour": [
           {
            "colorbar": {
             "outlinewidth": 0,
             "ticks": ""
            },
            "colorscale": [
             [
              0,
              "#0d0887"
             ],
             [
              0.1111111111111111,
              "#46039f"
             ],
             [
              0.2222222222222222,
              "#7201a8"
             ],
             [
              0.3333333333333333,
              "#9c179e"
             ],
             [
              0.4444444444444444,
              "#bd3786"
             ],
             [
              0.5555555555555556,
              "#d8576b"
             ],
             [
              0.6666666666666666,
              "#ed7953"
             ],
             [
              0.7777777777777778,
              "#fb9f3a"
             ],
             [
              0.8888888888888888,
              "#fdca26"
             ],
             [
              1,
              "#f0f921"
             ]
            ],
            "type": "histogram2dcontour"
           }
          ],
          "mesh3d": [
           {
            "colorbar": {
             "outlinewidth": 0,
             "ticks": ""
            },
            "type": "mesh3d"
           }
          ],
          "parcoords": [
           {
            "line": {
             "colorbar": {
              "outlinewidth": 0,
              "ticks": ""
             }
            },
            "type": "parcoords"
           }
          ],
          "pie": [
           {
            "automargin": true,
            "type": "pie"
           }
          ],
          "scatter": [
           {
            "fillpattern": {
             "fillmode": "overlay",
             "size": 10,
             "solidity": 0.2
            },
            "type": "scatter"
           }
          ],
          "scatter3d": [
           {
            "line": {
             "colorbar": {
              "outlinewidth": 0,
              "ticks": ""
             }
            },
            "marker": {
             "colorbar": {
              "outlinewidth": 0,
              "ticks": ""
             }
            },
            "type": "scatter3d"
           }
          ],
          "scattercarpet": [
           {
            "marker": {
             "colorbar": {
              "outlinewidth": 0,
              "ticks": ""
             }
            },
            "type": "scattercarpet"
           }
          ],
          "scattergeo": [
           {
            "marker": {
             "colorbar": {
              "outlinewidth": 0,
              "ticks": ""
             }
            },
            "type": "scattergeo"
           }
          ],
          "scattergl": [
           {
            "marker": {
             "colorbar": {
              "outlinewidth": 0,
              "ticks": ""
             }
            },
            "type": "scattergl"
           }
          ],
          "scattermap": [
           {
            "marker": {
             "colorbar": {
              "outlinewidth": 0,
              "ticks": ""
             }
            },
            "type": "scattermap"
           }
          ],
          "scattermapbox": [
           {
            "marker": {
             "colorbar": {
              "outlinewidth": 0,
              "ticks": ""
             }
            },
            "type": "scattermapbox"
           }
          ],
          "scatterpolar": [
           {
            "marker": {
             "colorbar": {
              "outlinewidth": 0,
              "ticks": ""
             }
            },
            "type": "scatterpolar"
           }
          ],
          "scatterpolargl": [
           {
            "marker": {
             "colorbar": {
              "outlinewidth": 0,
              "ticks": ""
             }
            },
            "type": "scatterpolargl"
           }
          ],
          "scatterternary": [
           {
            "marker": {
             "colorbar": {
              "outlinewidth": 0,
              "ticks": ""
             }
            },
            "type": "scatterternary"
           }
          ],
          "surface": [
           {
            "colorbar": {
             "outlinewidth": 0,
             "ticks": ""
            },
            "colorscale": [
             [
              0,
              "#0d0887"
             ],
             [
              0.1111111111111111,
              "#46039f"
             ],
             [
              0.2222222222222222,
              "#7201a8"
             ],
             [
              0.3333333333333333,
              "#9c179e"
             ],
             [
              0.4444444444444444,
              "#bd3786"
             ],
             [
              0.5555555555555556,
              "#d8576b"
             ],
             [
              0.6666666666666666,
              "#ed7953"
             ],
             [
              0.7777777777777778,
              "#fb9f3a"
             ],
             [
              0.8888888888888888,
              "#fdca26"
             ],
             [
              1,
              "#f0f921"
             ]
            ],
            "type": "surface"
           }
          ],
          "table": [
           {
            "cells": {
             "fill": {
              "color": "#EBF0F8"
             },
             "line": {
              "color": "white"
             }
            },
            "header": {
             "fill": {
              "color": "#C8D4E3"
             },
             "line": {
              "color": "white"
             }
            },
            "type": "table"
           }
          ]
         },
         "layout": {
          "annotationdefaults": {
           "arrowcolor": "#2a3f5f",
           "arrowhead": 0,
           "arrowwidth": 1
          },
          "autotypenumbers": "strict",
          "coloraxis": {
           "colorbar": {
            "outlinewidth": 0,
            "ticks": ""
           }
          },
          "colorscale": {
           "diverging": [
            [
             0,
             "#8e0152"
            ],
            [
             0.1,
             "#c51b7d"
            ],
            [
             0.2,
             "#de77ae"
            ],
            [
             0.3,
             "#f1b6da"
            ],
            [
             0.4,
             "#fde0ef"
            ],
            [
             0.5,
             "#f7f7f7"
            ],
            [
             0.6,
             "#e6f5d0"
            ],
            [
             0.7,
             "#b8e186"
            ],
            [
             0.8,
             "#7fbc41"
            ],
            [
             0.9,
             "#4d9221"
            ],
            [
             1,
             "#276419"
            ]
           ],
           "sequential": [
            [
             0,
             "#0d0887"
            ],
            [
             0.1111111111111111,
             "#46039f"
            ],
            [
             0.2222222222222222,
             "#7201a8"
            ],
            [
             0.3333333333333333,
             "#9c179e"
            ],
            [
             0.4444444444444444,
             "#bd3786"
            ],
            [
             0.5555555555555556,
             "#d8576b"
            ],
            [
             0.6666666666666666,
             "#ed7953"
            ],
            [
             0.7777777777777778,
             "#fb9f3a"
            ],
            [
             0.8888888888888888,
             "#fdca26"
            ],
            [
             1,
             "#f0f921"
            ]
           ],
           "sequentialminus": [
            [
             0,
             "#0d0887"
            ],
            [
             0.1111111111111111,
             "#46039f"
            ],
            [
             0.2222222222222222,
             "#7201a8"
            ],
            [
             0.3333333333333333,
             "#9c179e"
            ],
            [
             0.4444444444444444,
             "#bd3786"
            ],
            [
             0.5555555555555556,
             "#d8576b"
            ],
            [
             0.6666666666666666,
             "#ed7953"
            ],
            [
             0.7777777777777778,
             "#fb9f3a"
            ],
            [
             0.8888888888888888,
             "#fdca26"
            ],
            [
             1,
             "#f0f921"
            ]
           ]
          },
          "colorway": [
           "#636efa",
           "#EF553B",
           "#00cc96",
           "#ab63fa",
           "#FFA15A",
           "#19d3f3",
           "#FF6692",
           "#B6E880",
           "#FF97FF",
           "#FECB52"
          ],
          "font": {
           "color": "#2a3f5f"
          },
          "geo": {
           "bgcolor": "white",
           "lakecolor": "white",
           "landcolor": "#E5ECF6",
           "showlakes": true,
           "showland": true,
           "subunitcolor": "white"
          },
          "hoverlabel": {
           "align": "left"
          },
          "hovermode": "closest",
          "mapbox": {
           "style": "light"
          },
          "paper_bgcolor": "white",
          "plot_bgcolor": "#E5ECF6",
          "polar": {
           "angularaxis": {
            "gridcolor": "white",
            "linecolor": "white",
            "ticks": ""
           },
           "bgcolor": "#E5ECF6",
           "radialaxis": {
            "gridcolor": "white",
            "linecolor": "white",
            "ticks": ""
           }
          },
          "scene": {
           "xaxis": {
            "backgroundcolor": "#E5ECF6",
            "gridcolor": "white",
            "gridwidth": 2,
            "linecolor": "white",
            "showbackground": true,
            "ticks": "",
            "zerolinecolor": "white"
           },
           "yaxis": {
            "backgroundcolor": "#E5ECF6",
            "gridcolor": "white",
            "gridwidth": 2,
            "linecolor": "white",
            "showbackground": true,
            "ticks": "",
            "zerolinecolor": "white"
           },
           "zaxis": {
            "backgroundcolor": "#E5ECF6",
            "gridcolor": "white",
            "gridwidth": 2,
            "linecolor": "white",
            "showbackground": true,
            "ticks": "",
            "zerolinecolor": "white"
           }
          },
          "shapedefaults": {
           "line": {
            "color": "#2a3f5f"
           }
          },
          "ternary": {
           "aaxis": {
            "gridcolor": "white",
            "linecolor": "white",
            "ticks": ""
           },
           "baxis": {
            "gridcolor": "white",
            "linecolor": "white",
            "ticks": ""
           },
           "bgcolor": "#E5ECF6",
           "caxis": {
            "gridcolor": "white",
            "linecolor": "white",
            "ticks": ""
           }
          },
          "title": {
           "x": 0.05
          },
          "xaxis": {
           "automargin": true,
           "gridcolor": "white",
           "linecolor": "white",
           "ticks": "",
           "title": {
            "standoff": 15
           },
           "zerolinecolor": "white",
           "zerolinewidth": 2
          },
          "yaxis": {
           "automargin": true,
           "gridcolor": "white",
           "linecolor": "white",
           "ticks": "",
           "title": {
            "standoff": 15
           },
           "zerolinecolor": "white",
           "zerolinewidth": 2
          }
         }
        },
        "title": {
         "text": "Average Response Time by Call Type (±1 SD)",
         "x": 0.45
        },
        "xaxis": {
         "anchor": "y",
         "domain": [
          0,
          1
         ],
         "title": {
          "text": "Incident Category"
         },
         "type": "category"
        },
        "yaxis": {
         "anchor": "x",
         "domain": [
          0,
          1
         ],
         "title": {
          "text": "Average Response Time (Minutes)"
         }
        }
       }
      }
     },
     "metadata": {},
     "output_type": "display_data"
    }
   ],
   "source": [
    "color_map = {'EPD': 'lightblue', 'CAHOOTS': 'salmon'}\n",
    "\n",
    "fig = px.bar(\n",
    "    call_grouped, \n",
    "    x='IncidentCategory', \n",
    "    y='Mean_Response', \n",
    "    color='RespondingUnitCallSign',\n",
    "    error_y='Std_Error',  \n",
    "    barmode='group',\n",
    "    color_discrete_map=color_map,\n",
    "    opacity=0.96,\n",
    "    labels={'Mean_Response': 'Average Response Time (Minutes)'}\n",
    ")\n",
    "fig.update_traces(error_y_color='white')\n",
    "# Customize layout\n",
    "fig.update_layout(\n",
    "    paper_bgcolor='rgba(0,0,0,0)', \n",
    "    plot_bgcolor='rgba(0,0,0,0)',\n",
    "    xaxis={'type': 'category'},\n",
    "    font=dict(color='white'),\n",
    "    yaxis_title='Average Response Time (Minutes)',\n",
    "    xaxis_title='Incident Category',  \n",
    "    legend_title='Responding Unit',\n",
    "    title=\"Average Response Time by Call Type (±1 SD)\",\n",
    "    title_x=0.45\n",
    ")\n",
    "for trace in fig.data:\n",
    "    trace.marker.color = [\n",
    "        'grey' if day in grey else color_map[trace.name]\n",
    "        for day in trace.x]\n",
    "fig.add_trace(go.Bar(\n",
    "     x=[None], y=[None],\n",
    "     name='CAHOOTS',\n",
    "     marker=dict(color='salmon'),\n",
    "     showlegend=True,\n",
    "     hoverinfo='skip'\n",
    "))\n",
    "fig.add_trace(go.Bar(\n",
    "     x=[None], y=[None],\n",
    "     name='EPD',\n",
    "     marker=dict(color='lightblue'),\n",
    "     showlegend=True,\n",
    "     hoverinfo='skip'\n",
    "))\n",
    "fig.write_image(\"../plots/Call_Type.png\")\n",
    "fig.show()"
   ]
  },
  {
   "cell_type": "code",
   "execution_count": null,
   "id": "a3bb6dc1",
   "metadata": {},
   "outputs": [],
   "source": []
  }
 ],
 "metadata": {
  "kernelspec": {
   "display_name": "icarus",
   "language": "python",
   "name": "python3"
  },
  "language_info": {
   "codemirror_mode": {
    "name": "ipython",
    "version": 3
   },
   "file_extension": ".py",
   "mimetype": "text/x-python",
   "name": "python",
   "nbconvert_exporter": "python",
   "pygments_lexer": "ipython3",
   "version": "3.13.2"
  }
 },
 "nbformat": 4,
 "nbformat_minor": 5
}
